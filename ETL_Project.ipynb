{
 "cells": [
  {
   "cell_type": "code",
   "execution_count": 2,
   "metadata": {
    "slideshow": {
     "slide_type": "skip"
    }
   },
   "outputs": [],
   "source": [
    "# Import dependencies needed for the project\n",
    "import requests\n",
    "import lxml.html as lh\n",
    "import pandas as pd\n",
    "from sqlalchemy import create_engine\n",
    "import datetime as dt\n",
    "import matplotlib.pyplot as plt\n",
    "import matplotlib.dates as mdates\n",
    "import numpy as np\n",
    "import time\n",
    "import math"
   ]
  },
  {
   "cell_type": "markdown",
   "metadata": {
    "slideshow": {
     "slide_type": "slide"
    }
   },
   "source": [
    "### ETL PROJECT: Trump Tweets vs MEX dB\n",
    "### Jorge Marquez\n",
    "### Nestor Matus\n",
    "### Gonzalo Cienfuegos"
   ]
  },
  {
   "cell_type": "markdown",
   "metadata": {
    "slideshow": {
     "slide_type": "slide"
    }
   },
   "source": [
    "### EXTRACT 1) Store Exchange Rate (MXP/USD) CSV into DF\n",
    "### Source: http://www.banxico.org.mx/tipcamb/tipCamMIAction.do?idioma=sp"
   ]
  },
  {
   "cell_type": "code",
   "execution_count": 3,
   "metadata": {
    "slideshow": {
     "slide_type": "fragment"
    }
   },
   "outputs": [
    {
     "data": {
      "text/html": [
       "<div>\n",
       "<style scoped>\n",
       "    .dataframe tbody tr th:only-of-type {\n",
       "        vertical-align: middle;\n",
       "    }\n",
       "\n",
       "    .dataframe tbody tr th {\n",
       "        vertical-align: top;\n",
       "    }\n",
       "\n",
       "    .dataframe thead th {\n",
       "        text-align: right;\n",
       "    }\n",
       "</style>\n",
       "<table border=\"1\" class=\"dataframe\">\n",
       "  <thead>\n",
       "    <tr style=\"text-align: right;\">\n",
       "      <th></th>\n",
       "      <th>Fecha</th>\n",
       "      <th>Determinación</th>\n",
       "      <th>Publicación\n",
       "DOF</th>\n",
       "      <th>Para solventar\n",
       "obligaciones</th>\n",
       "    </tr>\n",
       "  </thead>\n",
       "  <tbody>\n",
       "    <tr>\n",
       "      <th>0</th>\n",
       "      <td>NaN</td>\n",
       "      <td>NaN</td>\n",
       "      <td>NaN</td>\n",
       "      <td>NaN</td>\n",
       "    </tr>\n",
       "    <tr>\n",
       "      <th>1</th>\n",
       "      <td>02/01/2006</td>\n",
       "      <td>10.6253</td>\n",
       "      <td>10.6344</td>\n",
       "      <td>10.7109</td>\n",
       "    </tr>\n",
       "    <tr>\n",
       "      <th>2</th>\n",
       "      <td>03/01/2006</td>\n",
       "      <td>10.6455</td>\n",
       "      <td>10.6253</td>\n",
       "      <td>10.6344</td>\n",
       "    </tr>\n",
       "    <tr>\n",
       "      <th>3</th>\n",
       "      <td>04/01/2006</td>\n",
       "      <td>10.5815</td>\n",
       "      <td>10.6455</td>\n",
       "      <td>10.6253</td>\n",
       "    </tr>\n",
       "    <tr>\n",
       "      <th>4</th>\n",
       "      <td>05/01/2006</td>\n",
       "      <td>10.5907</td>\n",
       "      <td>10.5815</td>\n",
       "      <td>10.6455</td>\n",
       "    </tr>\n",
       "  </tbody>\n",
       "</table>\n",
       "</div>"
      ],
      "text/plain": [
       "        Fecha Determinación Publicación\\nDOF  Para solventar\\nobligaciones\n",
       "0         NaN           NaN              NaN                           NaN\n",
       "1  02/01/2006       10.6253          10.6344                       10.7109\n",
       "2  03/01/2006       10.6455          10.6253                       10.6344\n",
       "3  04/01/2006       10.5815          10.6455                       10.6253\n",
       "4  05/01/2006       10.5907          10.5815                       10.6455"
      ]
     },
     "execution_count": 3,
     "metadata": {},
     "output_type": "execute_result"
    }
   ],
   "source": [
    "# Read csv from given route\n",
    "e_r_data_df = pd.read_csv(\"Resources/exchange_rate.csv\")\n",
    "\n",
    "# Show dataframe data\n",
    "e_r_data_df.head()"
   ]
  },
  {
   "cell_type": "markdown",
   "metadata": {
    "slideshow": {
     "slide_type": "slide"
    }
   },
   "source": [
    "### TRANSFORM 1) Reformat date and columns renaming"
   ]
  },
  {
   "cell_type": "code",
   "execution_count": 4,
   "metadata": {
    "slideshow": {
     "slide_type": "fragment"
    }
   },
   "outputs": [
    {
     "data": {
      "text/plain": [
       "Fecha                           datetime64[ns]\n",
       "Determinación                           object\n",
       "Publicación\\nDOF                        object\n",
       "Para solventar\\nobligaciones           float64\n",
       "dtype: object"
      ]
     },
     "execution_count": 4,
     "metadata": {},
     "output_type": "execute_result"
    }
   ],
   "source": [
    "# Transform date with format Y/M/D to Y-M-D \n",
    "e_r_data_df[\"Fecha\"] = pd.to_datetime(e_r_data_df.Fecha)\n",
    "\n",
    "# Clean column without NA values\n",
    "e_r_data_df = e_r_data_df.dropna(how=\"any\")\n",
    "\n",
    "e_r_data_df.dtypes\n",
    "#depending on Python Version the output for column #4 is different for the next code step"
   ]
  },
  {
   "cell_type": "code",
   "execution_count": 17,
   "metadata": {
    "slideshow": {
     "slide_type": "slide"
    }
   },
   "outputs": [
    {
     "data": {
      "text/html": [
       "<div>\n",
       "<style scoped>\n",
       "    .dataframe tbody tr th:only-of-type {\n",
       "        vertical-align: middle;\n",
       "    }\n",
       "\n",
       "    .dataframe tbody tr th {\n",
       "        vertical-align: top;\n",
       "    }\n",
       "\n",
       "    .dataframe thead th {\n",
       "        text-align: right;\n",
       "    }\n",
       "</style>\n",
       "<table border=\"1\" class=\"dataframe\">\n",
       "  <thead>\n",
       "    <tr style=\"text-align: right;\">\n",
       "      <th></th>\n",
       "      <th>date</th>\n",
       "      <th>exchange_rate</th>\n",
       "    </tr>\n",
       "  </thead>\n",
       "  <tbody>\n",
       "    <tr>\n",
       "      <th>1</th>\n",
       "      <td>2006-02-01</td>\n",
       "      <td>10.7109</td>\n",
       "    </tr>\n",
       "    <tr>\n",
       "      <th>2</th>\n",
       "      <td>2006-03-01</td>\n",
       "      <td>10.6344</td>\n",
       "    </tr>\n",
       "    <tr>\n",
       "      <th>3</th>\n",
       "      <td>2006-04-01</td>\n",
       "      <td>10.6253</td>\n",
       "    </tr>\n",
       "    <tr>\n",
       "      <th>4</th>\n",
       "      <td>2006-05-01</td>\n",
       "      <td>10.6455</td>\n",
       "    </tr>\n",
       "    <tr>\n",
       "      <th>5</th>\n",
       "      <td>2006-06-01</td>\n",
       "      <td>10.5815</td>\n",
       "    </tr>\n",
       "  </tbody>\n",
       "</table>\n",
       "</div>"
      ],
      "text/plain": [
       "        date  exchange_rate\n",
       "1 2006-02-01        10.7109\n",
       "2 2006-03-01        10.6344\n",
       "3 2006-04-01        10.6253\n",
       "4 2006-05-01        10.6455\n",
       "5 2006-06-01        10.5815"
      ]
     },
     "execution_count": 17,
     "metadata": {},
     "output_type": "execute_result"
    }
   ],
   "source": [
    "#Code lines thar run in Python v.3.6.8:\n",
    "#e_r_data_df = e_r_data_df[[\"Fecha\", \"Para solventar\\r\\nobligaciones\"]]\n",
    "#e_r_data_df = e_r_data_df.rename(columns={'Fecha': 'date', 'Para solventar\\r\\nobligaciones': 'exchange_rate'})\n",
    "#Code lines that run in Python v3.7.3\n",
    "e_r_data_df = e_r_data_df[[\"Fecha\", \"Para solventar\\nobligaciones\"]]\n",
    "e_r_data_df = e_r_data_df.rename(columns={'Fecha': 'date', 'Para solventar\\nobligaciones': 'exchange_rate'})\n",
    "e_r_data_df = e_r_data_df[[\"date\", \"exchange_rate\"]]\n",
    "e_r_data_df.head()"
   ]
  },
  {
   "cell_type": "markdown",
   "metadata": {
    "slideshow": {
     "slide_type": "slide"
    }
   },
   "source": [
    "## EXTRACT 2) Store Tweets CSV into DF\n",
    "### Source: http://www.trumptwitterarchive.com/"
   ]
  },
  {
   "cell_type": "code",
   "execution_count": 18,
   "metadata": {
    "slideshow": {
     "slide_type": "skip"
    }
   },
   "outputs": [],
   "source": [
    "#read CSV\n",
    "csv_file = \"Resources/trump_vs_mex.csv\""
   ]
  },
  {
   "cell_type": "code",
   "execution_count": 19,
   "metadata": {
    "slideshow": {
     "slide_type": "fragment"
    }
   },
   "outputs": [
    {
     "data": {
      "text/html": [
       "<div>\n",
       "<style scoped>\n",
       "    .dataframe tbody tr th:only-of-type {\n",
       "        vertical-align: middle;\n",
       "    }\n",
       "\n",
       "    .dataframe tbody tr th {\n",
       "        vertical-align: top;\n",
       "    }\n",
       "\n",
       "    .dataframe thead th {\n",
       "        text-align: right;\n",
       "    }\n",
       "</style>\n",
       "<table border=\"1\" class=\"dataframe\">\n",
       "  <thead>\n",
       "    <tr style=\"text-align: right;\">\n",
       "      <th></th>\n",
       "      <th>source</th>\n",
       "      <th>text</th>\n",
       "      <th>created_at</th>\n",
       "      <th>retweet_count</th>\n",
       "      <th>favorite_count</th>\n",
       "      <th>is_retweet</th>\n",
       "      <th>id_str</th>\n",
       "    </tr>\n",
       "  </thead>\n",
       "  <tbody>\n",
       "    <tr>\n",
       "      <th>0</th>\n",
       "      <td>Twitter for iPhone</td>\n",
       "      <td>RT @VP: Earlier this year President @realDonal...</td>\n",
       "      <td>07/12/2019 22:14</td>\n",
       "      <td>11433.0</td>\n",
       "      <td>0.0</td>\n",
       "      <td>True</td>\n",
       "      <td>1.149800e+18</td>\n",
       "    </tr>\n",
       "    <tr>\n",
       "      <th>1</th>\n",
       "      <td>Twitter for iPhone</td>\n",
       "      <td>....companies to come to the USA and to get co...</td>\n",
       "      <td>07/12/2019 12:48</td>\n",
       "      <td>9842.0</td>\n",
       "      <td>49450.0</td>\n",
       "      <td>False</td>\n",
       "      <td>1.149660e+18</td>\n",
       "    </tr>\n",
       "    <tr>\n",
       "      <th>2</th>\n",
       "      <td>Twitter for iPhone</td>\n",
       "      <td>.....if Mexico produces (which I think they wi...</td>\n",
       "      <td>07/12/2019 12:48</td>\n",
       "      <td>10001.0</td>\n",
       "      <td>50049.0</td>\n",
       "      <td>False</td>\n",
       "      <td>1.149660e+18</td>\n",
       "    </tr>\n",
       "    <tr>\n",
       "      <th>3</th>\n",
       "      <td>Twitter for iPhone</td>\n",
       "      <td>RT @PAChamber: Trade with Canada and Mexico su...</td>\n",
       "      <td>07/12/2019 03:26</td>\n",
       "      <td>4308.0</td>\n",
       "      <td>0.0</td>\n",
       "      <td>True</td>\n",
       "      <td>1.149520e+18</td>\n",
       "    </tr>\n",
       "    <tr>\n",
       "      <th>4</th>\n",
       "      <td>Twitter for iPhone</td>\n",
       "      <td>Mexico is doing great at the Border but China ...</td>\n",
       "      <td>07/11/2019 14:04</td>\n",
       "      <td>11612.0</td>\n",
       "      <td>48964.0</td>\n",
       "      <td>False</td>\n",
       "      <td>1.149320e+18</td>\n",
       "    </tr>\n",
       "  </tbody>\n",
       "</table>\n",
       "</div>"
      ],
      "text/plain": [
       "               source                                               text  \\\n",
       "0  Twitter for iPhone  RT @VP: Earlier this year President @realDonal...   \n",
       "1  Twitter for iPhone  ....companies to come to the USA and to get co...   \n",
       "2  Twitter for iPhone  .....if Mexico produces (which I think they wi...   \n",
       "3  Twitter for iPhone  RT @PAChamber: Trade with Canada and Mexico su...   \n",
       "4  Twitter for iPhone  Mexico is doing great at the Border but China ...   \n",
       "\n",
       "         created_at  retweet_count  favorite_count is_retweet        id_str  \n",
       "0  07/12/2019 22:14        11433.0             0.0       True  1.149800e+18  \n",
       "1  07/12/2019 12:48         9842.0         49450.0      False  1.149660e+18  \n",
       "2  07/12/2019 12:48        10001.0         50049.0      False  1.149660e+18  \n",
       "3  07/12/2019 03:26         4308.0             0.0       True  1.149520e+18  \n",
       "4  07/11/2019 14:04        11612.0         48964.0      False  1.149320e+18  "
      ]
     },
     "execution_count": 19,
     "metadata": {},
     "output_type": "execute_result"
    }
   ],
   "source": [
    "#Create dataframe and display\n",
    "tweets = pd.read_csv(csv_file, encoding = \"ISO-8859-1\")\n",
    "tweets.head()"
   ]
  },
  {
   "cell_type": "code",
   "execution_count": 20,
   "metadata": {
    "slideshow": {
     "slide_type": "fragment"
    }
   },
   "outputs": [
    {
     "data": {
      "text/html": [
       "<div>\n",
       "<style scoped>\n",
       "    .dataframe tbody tr th:only-of-type {\n",
       "        vertical-align: middle;\n",
       "    }\n",
       "\n",
       "    .dataframe tbody tr th {\n",
       "        vertical-align: top;\n",
       "    }\n",
       "\n",
       "    .dataframe thead th {\n",
       "        text-align: right;\n",
       "    }\n",
       "</style>\n",
       "<table border=\"1\" class=\"dataframe\">\n",
       "  <thead>\n",
       "    <tr style=\"text-align: right;\">\n",
       "      <th></th>\n",
       "      <th>source</th>\n",
       "      <th>text</th>\n",
       "      <th>created_at</th>\n",
       "      <th>retweet_count</th>\n",
       "      <th>favorite_count</th>\n",
       "      <th>is_retweet</th>\n",
       "      <th>id_str</th>\n",
       "      <th>Time</th>\n",
       "    </tr>\n",
       "    <tr>\n",
       "      <th>Date</th>\n",
       "      <th></th>\n",
       "      <th></th>\n",
       "      <th></th>\n",
       "      <th></th>\n",
       "      <th></th>\n",
       "      <th></th>\n",
       "      <th></th>\n",
       "      <th></th>\n",
       "    </tr>\n",
       "  </thead>\n",
       "  <tbody>\n",
       "    <tr>\n",
       "      <th>2019-07-12</th>\n",
       "      <td>Twitter for iPhone</td>\n",
       "      <td>RT @VP: Earlier this year President @realDonal...</td>\n",
       "      <td>2019-07-12 22:14:00</td>\n",
       "      <td>11433.0</td>\n",
       "      <td>0.0</td>\n",
       "      <td>True</td>\n",
       "      <td>1.149800e+18</td>\n",
       "      <td>22:14:00</td>\n",
       "    </tr>\n",
       "    <tr>\n",
       "      <th>2019-07-12</th>\n",
       "      <td>Twitter for iPhone</td>\n",
       "      <td>....companies to come to the USA and to get co...</td>\n",
       "      <td>2019-07-12 12:48:00</td>\n",
       "      <td>9842.0</td>\n",
       "      <td>49450.0</td>\n",
       "      <td>False</td>\n",
       "      <td>1.149660e+18</td>\n",
       "      <td>12:48:00</td>\n",
       "    </tr>\n",
       "    <tr>\n",
       "      <th>2019-07-12</th>\n",
       "      <td>Twitter for iPhone</td>\n",
       "      <td>.....if Mexico produces (which I think they wi...</td>\n",
       "      <td>2019-07-12 12:48:00</td>\n",
       "      <td>10001.0</td>\n",
       "      <td>50049.0</td>\n",
       "      <td>False</td>\n",
       "      <td>1.149660e+18</td>\n",
       "      <td>12:48:00</td>\n",
       "    </tr>\n",
       "    <tr>\n",
       "      <th>2019-07-12</th>\n",
       "      <td>Twitter for iPhone</td>\n",
       "      <td>RT @PAChamber: Trade with Canada and Mexico su...</td>\n",
       "      <td>2019-07-12 03:26:00</td>\n",
       "      <td>4308.0</td>\n",
       "      <td>0.0</td>\n",
       "      <td>True</td>\n",
       "      <td>1.149520e+18</td>\n",
       "      <td>03:26:00</td>\n",
       "    </tr>\n",
       "    <tr>\n",
       "      <th>2019-07-11</th>\n",
       "      <td>Twitter for iPhone</td>\n",
       "      <td>Mexico is doing great at the Border but China ...</td>\n",
       "      <td>2019-07-11 14:04:00</td>\n",
       "      <td>11612.0</td>\n",
       "      <td>48964.0</td>\n",
       "      <td>False</td>\n",
       "      <td>1.149320e+18</td>\n",
       "      <td>14:04:00</td>\n",
       "    </tr>\n",
       "  </tbody>\n",
       "</table>\n",
       "</div>"
      ],
      "text/plain": [
       "                        source  \\\n",
       "Date                             \n",
       "2019-07-12  Twitter for iPhone   \n",
       "2019-07-12  Twitter for iPhone   \n",
       "2019-07-12  Twitter for iPhone   \n",
       "2019-07-12  Twitter for iPhone   \n",
       "2019-07-11  Twitter for iPhone   \n",
       "\n",
       "                                                         text  \\\n",
       "Date                                                            \n",
       "2019-07-12  RT @VP: Earlier this year President @realDonal...   \n",
       "2019-07-12  ....companies to come to the USA and to get co...   \n",
       "2019-07-12  .....if Mexico produces (which I think they wi...   \n",
       "2019-07-12  RT @PAChamber: Trade with Canada and Mexico su...   \n",
       "2019-07-11  Mexico is doing great at the Border but China ...   \n",
       "\n",
       "                    created_at  retweet_count  favorite_count is_retweet  \\\n",
       "Date                                                                       \n",
       "2019-07-12 2019-07-12 22:14:00        11433.0             0.0       True   \n",
       "2019-07-12 2019-07-12 12:48:00         9842.0         49450.0      False   \n",
       "2019-07-12 2019-07-12 12:48:00        10001.0         50049.0      False   \n",
       "2019-07-12 2019-07-12 03:26:00         4308.0             0.0       True   \n",
       "2019-07-11 2019-07-11 14:04:00        11612.0         48964.0      False   \n",
       "\n",
       "                  id_str      Time  \n",
       "Date                                \n",
       "2019-07-12  1.149800e+18  22:14:00  \n",
       "2019-07-12  1.149660e+18  12:48:00  \n",
       "2019-07-12  1.149660e+18  12:48:00  \n",
       "2019-07-12  1.149520e+18  03:26:00  \n",
       "2019-07-11  1.149320e+18  14:04:00  "
      ]
     },
     "execution_count": 20,
     "metadata": {},
     "output_type": "execute_result"
    }
   ],
   "source": [
    "#Clean data\n",
    "tweets_clean = tweets\n",
    "tweets_clean[\"created_at\"] = pd.to_datetime(tweets_clean[\"created_at\"])\n",
    "tweets_clean['Date'], tweets_clean['Time'] = tweets_clean['created_at'].dt.normalize(), tweets_clean['created_at'].dt.time\n",
    "tweets_clean.set_index('Date').head()"
   ]
  },
  {
   "cell_type": "markdown",
   "metadata": {
    "slideshow": {
     "slide_type": "slide"
    }
   },
   "source": [
    "### TRANSFORM 2) Columns rename, merging both DF and slicing ath the same time"
   ]
  },
  {
   "cell_type": "code",
   "execution_count": 21,
   "metadata": {
    "slideshow": {
     "slide_type": "fragment"
    }
   },
   "outputs": [
    {
     "name": "stderr",
     "output_type": "stream",
     "text": [
      "C:\\Users\\Gonzalo\\Anaconda3\\lib\\site-packages\\ipykernel_launcher.py:12: FutureWarning: Comparing Series of datetimes with 'datetime.date'.  Currently, the\n",
      "'datetime.date' is coerced to a datetime. In the future pandas will\n",
      "not coerce, and a TypeError will be raised. To retain the current\n",
      "behavior, convert the 'datetime.date' to a datetime with\n",
      "'pd.Timestamp'.\n",
      "  if sys.path[0] == '':\n"
     ]
    }
   ],
   "source": [
    "#Create new dataframe\n",
    "new_tweets = tweets_clean[[\"Date\", \"id_str\", \"text\",\"retweet_count\"]].set_index('id_str')\n",
    "#rename columns\n",
    "new_tweets = new_tweets.rename(columns={\"text\" :\"tweet\", \n",
    "                           \"Date\": \"date\"})\n",
    "new_tweets.index.names = ['id']\n",
    "new_tweets = new_tweets.dropna()\n",
    "#drop retweets\n",
    "new_tweets =new_tweets[~new_tweets.tweet.str.startswith('RT @')]\n",
    "#filter by date\n",
    "#new_tweets.loc['2015-01-01':'2019-08-22']\n",
    "new_tweets = new_tweets[(new_tweets['date']>dt.date(2015,1,1)) & (new_tweets['date']<dt.date(2019,8,1))]  "
   ]
  },
  {
   "cell_type": "code",
   "execution_count": 22,
   "metadata": {
    "slideshow": {
     "slide_type": "fragment"
    }
   },
   "outputs": [
    {
     "data": {
      "text/html": [
       "<div>\n",
       "<style scoped>\n",
       "    .dataframe tbody tr th:only-of-type {\n",
       "        vertical-align: middle;\n",
       "    }\n",
       "\n",
       "    .dataframe tbody tr th {\n",
       "        vertical-align: top;\n",
       "    }\n",
       "\n",
       "    .dataframe thead th {\n",
       "        text-align: right;\n",
       "    }\n",
       "</style>\n",
       "<table border=\"1\" class=\"dataframe\">\n",
       "  <thead>\n",
       "    <tr style=\"text-align: right;\">\n",
       "      <th></th>\n",
       "      <th>date</th>\n",
       "      <th>tweet</th>\n",
       "      <th>retweet_count</th>\n",
       "    </tr>\n",
       "    <tr>\n",
       "      <th>id</th>\n",
       "      <th></th>\n",
       "      <th></th>\n",
       "      <th></th>\n",
       "    </tr>\n",
       "  </thead>\n",
       "  <tbody>\n",
       "    <tr>\n",
       "      <th>1.149660e+18</th>\n",
       "      <td>2019-07-12</td>\n",
       "      <td>....companies to come to the USA and to get co...</td>\n",
       "      <td>9842.0</td>\n",
       "    </tr>\n",
       "    <tr>\n",
       "      <th>1.149660e+18</th>\n",
       "      <td>2019-07-12</td>\n",
       "      <td>.....if Mexico produces (which I think they wi...</td>\n",
       "      <td>10001.0</td>\n",
       "    </tr>\n",
       "    <tr>\n",
       "      <th>1.149320e+18</th>\n",
       "      <td>2019-07-11</td>\n",
       "      <td>Mexico is doing great at the Border but China ...</td>\n",
       "      <td>11612.0</td>\n",
       "    </tr>\n",
       "    <tr>\n",
       "      <th>1.146510e+18</th>\n",
       "      <td>2019-07-03</td>\n",
       "      <td>Mexico is doing a far better job than the Demo...</td>\n",
       "      <td>24713.0</td>\n",
       "    </tr>\n",
       "    <tr>\n",
       "      <th>1.144370e+18</th>\n",
       "      <td>2019-06-27</td>\n",
       "      <td>Bipartisan Humanitarian Aid Bill for the South...</td>\n",
       "      <td>25170.0</td>\n",
       "    </tr>\n",
       "  </tbody>\n",
       "</table>\n",
       "</div>"
      ],
      "text/plain": [
       "                   date                                              tweet  \\\n",
       "id                                                                           \n",
       "1.149660e+18 2019-07-12  ....companies to come to the USA and to get co...   \n",
       "1.149660e+18 2019-07-12  .....if Mexico produces (which I think they wi...   \n",
       "1.149320e+18 2019-07-11  Mexico is doing great at the Border but China ...   \n",
       "1.146510e+18 2019-07-03  Mexico is doing a far better job than the Demo...   \n",
       "1.144370e+18 2019-06-27  Bipartisan Humanitarian Aid Bill for the South...   \n",
       "\n",
       "              retweet_count  \n",
       "id                           \n",
       "1.149660e+18         9842.0  \n",
       "1.149660e+18        10001.0  \n",
       "1.149320e+18        11612.0  \n",
       "1.146510e+18        24713.0  \n",
       "1.144370e+18        25170.0  "
      ]
     },
     "execution_count": 22,
     "metadata": {},
     "output_type": "execute_result"
    }
   ],
   "source": [
    "new_tweets.head()"
   ]
  },
  {
   "cell_type": "code",
   "execution_count": 23,
   "metadata": {},
   "outputs": [],
   "source": [
    "urls_list = ['https://www.gunviolencearchive.org/reports/mass-shooting',\n",
    "            'https://www.gunviolencearchive.org/reports/mass-shooting?page=1',\n",
    "            'https://www.gunviolencearchive.org/reports/mass-shooting?page=2',\n",
    "            'https://www.gunviolencearchive.org/reports/mass-shooting?page=3',\n",
    "            'https://www.gunviolencearchive.org/reports/mass-shooting?page=4',\n",
    "            'https://www.gunviolencearchive.org/reports/mass-shooting?page=5',\n",
    "            'https://www.gunviolencearchive.org/reports/mass-shooting?page=6',\n",
    "            'https://www.gunviolencearchive.org/reports/mass-shooting?page=7',\n",
    "            'https://www.gunviolencearchive.org/reports/mass-shooting?page=8',\n",
    "            'https://www.gunviolencearchive.org/reports/mass-shooting?page=9',\n",
    "            'https://www.gunviolencearchive.org/reports/mass-shooting?page=10'\n",
    "             ]\n",
    "df1 = pd.DataFrame()\n",
    "for url in urls_list:\n",
    "    #Create a handle, page, to handle the contents of the website\n",
    "    page = requests.get(url)\n",
    "    #Store the contents of the website under doc\n",
    "    doc = lh.fromstring(page.content)\n",
    "    #Parse data that are stored between <tr>..</tr> of HTML\n",
    "    tr_elements = doc.xpath('//tr')\n",
    "\n",
    "    tr_elements = doc.xpath('//tr')\n",
    "    #Create empty list\n",
    "    col=[]\n",
    "    i=0\n",
    "    #For each row, store each first element (header) and an empty list\n",
    "    for t in tr_elements[0]:\n",
    "        i+=1\n",
    "        name=t.text_content()\n",
    "        col.append((name,[]))\n",
    "\n",
    "    #Since out first row is the header, data is stored on the second row onwards\n",
    "    for j in range(1,len(tr_elements)):\n",
    "        #T is our j'th row\n",
    "        T=tr_elements[j]\n",
    "\n",
    "        #If row is not of size 7, the //tr data is not from our table \n",
    "        if len(T)!=7:\n",
    "            break\n",
    "\n",
    "        #i is the index of our column\n",
    "        i=0\n",
    "\n",
    "        #Iterate through each element of the row\n",
    "        for t in T.iterchildren():\n",
    "            data=t.text_content() \n",
    "            #Check if row is empty\n",
    "            if i>0:\n",
    "            #Convert any numerical value to integers\n",
    "                try:\n",
    "                    data=int(data)\n",
    "                except:\n",
    "                    pass\n",
    "            #Append the data to the empty list of the i'th column\n",
    "            col[i][1].append(data)\n",
    "            #Increment i for the next column\n",
    "            i+=1\n",
    "\n",
    "    Dict={title:column for (title,column) in col}\n",
    "    df=pd.DataFrame(Dict)\n",
    "    df1 = df1.append(df)"
   ]
  },
  {
   "cell_type": "code",
   "execution_count": 24,
   "metadata": {},
   "outputs": [
    {
     "data": {
      "text/html": [
       "<div>\n",
       "<style scoped>\n",
       "    .dataframe tbody tr th:only-of-type {\n",
       "        vertical-align: middle;\n",
       "    }\n",
       "\n",
       "    .dataframe tbody tr th {\n",
       "        vertical-align: top;\n",
       "    }\n",
       "\n",
       "    .dataframe thead th {\n",
       "        text-align: right;\n",
       "    }\n",
       "</style>\n",
       "<table border=\"1\" class=\"dataframe\">\n",
       "  <thead>\n",
       "    <tr style=\"text-align: right;\">\n",
       "      <th></th>\n",
       "      <th>Incident Date</th>\n",
       "      <th>State</th>\n",
       "      <th>City Or County</th>\n",
       "      <th>Address</th>\n",
       "      <th># Killed</th>\n",
       "      <th># Injured</th>\n",
       "      <th>Operations</th>\n",
       "    </tr>\n",
       "  </thead>\n",
       "  <tbody>\n",
       "    <tr>\n",
       "      <th>0</th>\n",
       "      <td>August 23, 2019</td>\n",
       "      <td>Missouri</td>\n",
       "      <td>Saint Louis</td>\n",
       "      <td>918 Union</td>\n",
       "      <td>1</td>\n",
       "      <td>3</td>\n",
       "      <td>View Incident\\nView Source\\n</td>\n",
       "    </tr>\n",
       "    <tr>\n",
       "      <th>1</th>\n",
       "      <td>August 23, 2019</td>\n",
       "      <td>Texas</td>\n",
       "      <td>Houston</td>\n",
       "      <td>4900 block of Southwind St</td>\n",
       "      <td>3</td>\n",
       "      <td>2</td>\n",
       "      <td>View Incident\\nView Source\\n</td>\n",
       "    </tr>\n",
       "    <tr>\n",
       "      <th>2</th>\n",
       "      <td>August 22, 2019</td>\n",
       "      <td>South Carolina</td>\n",
       "      <td>Columbia</td>\n",
       "      <td>851 Bush River Rd</td>\n",
       "      <td>2</td>\n",
       "      <td>2</td>\n",
       "      <td>View Incident\\nView Source\\n</td>\n",
       "    </tr>\n",
       "    <tr>\n",
       "      <th>3</th>\n",
       "      <td>August 22, 2019</td>\n",
       "      <td>California</td>\n",
       "      <td>Los Angeles</td>\n",
       "      <td>300 block of West Fifth St</td>\n",
       "      <td>0</td>\n",
       "      <td>4</td>\n",
       "      <td>View Incident\\nView Source\\n</td>\n",
       "    </tr>\n",
       "    <tr>\n",
       "      <th>4</th>\n",
       "      <td>August 20, 2019</td>\n",
       "      <td>Georgia</td>\n",
       "      <td>Atlanta</td>\n",
       "      <td>111 James P Brawley Dr SW</td>\n",
       "      <td>0</td>\n",
       "      <td>4</td>\n",
       "      <td>View Incident\\nView Source\\n</td>\n",
       "    </tr>\n",
       "  </tbody>\n",
       "</table>\n",
       "</div>"
      ],
      "text/plain": [
       "     Incident Date           State City Or County                     Address  \\\n",
       "0  August 23, 2019        Missouri    Saint Louis                   918 Union   \n",
       "1  August 23, 2019           Texas        Houston  4900 block of Southwind St   \n",
       "2  August 22, 2019  South Carolina       Columbia           851 Bush River Rd   \n",
       "3  August 22, 2019      California    Los Angeles  300 block of West Fifth St   \n",
       "4  August 20, 2019         Georgia        Atlanta   111 James P Brawley Dr SW   \n",
       "\n",
       "   # Killed  # Injured                    Operations  \n",
       "0         1          3  View Incident\\nView Source\\n  \n",
       "1         3          2  View Incident\\nView Source\\n  \n",
       "2         2          2  View Incident\\nView Source\\n  \n",
       "3         0          4  View Incident\\nView Source\\n  \n",
       "4         0          4  View Incident\\nView Source\\n  "
      ]
     },
     "execution_count": 24,
     "metadata": {},
     "output_type": "execute_result"
    }
   ],
   "source": [
    "df1.head()"
   ]
  },
  {
   "cell_type": "code",
   "execution_count": 25,
   "metadata": {},
   "outputs": [
    {
     "data": {
      "text/html": [
       "<div>\n",
       "<style scoped>\n",
       "    .dataframe tbody tr th:only-of-type {\n",
       "        vertical-align: middle;\n",
       "    }\n",
       "\n",
       "    .dataframe tbody tr th {\n",
       "        vertical-align: top;\n",
       "    }\n",
       "\n",
       "    .dataframe thead th {\n",
       "        text-align: right;\n",
       "    }\n",
       "</style>\n",
       "<table border=\"1\" class=\"dataframe\">\n",
       "  <thead>\n",
       "    <tr style=\"text-align: right;\">\n",
       "      <th></th>\n",
       "      <th>date</th>\n",
       "      <th>number_killed</th>\n",
       "    </tr>\n",
       "  </thead>\n",
       "  <tbody>\n",
       "    <tr>\n",
       "      <th>0</th>\n",
       "      <td>2019-01-02</td>\n",
       "      <td>1</td>\n",
       "    </tr>\n",
       "    <tr>\n",
       "      <th>1</th>\n",
       "      <td>2019-01-03</td>\n",
       "      <td>1</td>\n",
       "    </tr>\n",
       "    <tr>\n",
       "      <th>2</th>\n",
       "      <td>2019-01-04</td>\n",
       "      <td>6</td>\n",
       "    </tr>\n",
       "    <tr>\n",
       "      <th>3</th>\n",
       "      <td>2019-01-13</td>\n",
       "      <td>1</td>\n",
       "    </tr>\n",
       "    <tr>\n",
       "      <th>4</th>\n",
       "      <td>2019-01-15</td>\n",
       "      <td>1</td>\n",
       "    </tr>\n",
       "  </tbody>\n",
       "</table>\n",
       "</div>"
      ],
      "text/plain": [
       "        date  number_killed\n",
       "0 2019-01-02              1\n",
       "1 2019-01-03              1\n",
       "2 2019-01-04              6\n",
       "3 2019-01-13              1\n",
       "4 2019-01-15              1"
      ]
     },
     "execution_count": 25,
     "metadata": {},
     "output_type": "execute_result"
    }
   ],
   "source": [
    "mass_shooting_df = df1[[\"Incident Date\", \"# Killed\"]]\n",
    "mass_shooting_df = mass_shooting_df.rename(columns={'Incident Date': 'date',\n",
    "                                                    '# Killed': 'number_killed'})\n",
    "mass_shooting_df[\"date\"] = pd.to_datetime(mass_shooting_df.date)\n",
    "mass_shooting_df = mass_shooting_df.groupby(['date']).sum()\n",
    "mass_shooting_df = mass_shooting_df.loc[(mass_shooting_df.number_killed > 0)]\n",
    "mass_shooting_df.reset_index(level=0, inplace=True)\n",
    "mass_shooting_df.head()"
   ]
  },
  {
   "cell_type": "markdown",
   "metadata": {
    "slideshow": {
     "slide_type": "skip"
    }
   },
   "source": [
    "### Union dataframe from Rate Exchange and Trump's Twitter and People Killed"
   ]
  },
  {
   "cell_type": "code",
   "execution_count": 26,
   "metadata": {
    "slideshow": {
     "slide_type": "fragment"
    }
   },
   "outputs": [
    {
     "data": {
      "text/html": [
       "<div>\n",
       "<style scoped>\n",
       "    .dataframe tbody tr th:only-of-type {\n",
       "        vertical-align: middle;\n",
       "    }\n",
       "\n",
       "    .dataframe tbody tr th {\n",
       "        vertical-align: top;\n",
       "    }\n",
       "\n",
       "    .dataframe thead th {\n",
       "        text-align: right;\n",
       "    }\n",
       "</style>\n",
       "<table border=\"1\" class=\"dataframe\">\n",
       "  <thead>\n",
       "    <tr style=\"text-align: right;\">\n",
       "      <th></th>\n",
       "      <th>tweet</th>\n",
       "      <th>retweet_count</th>\n",
       "      <th>exchange_rate</th>\n",
       "      <th>number_killed</th>\n",
       "    </tr>\n",
       "    <tr>\n",
       "      <th>date</th>\n",
       "      <th></th>\n",
       "      <th></th>\n",
       "      <th></th>\n",
       "      <th></th>\n",
       "    </tr>\n",
       "  </thead>\n",
       "  <tbody>\n",
       "    <tr>\n",
       "      <th>2019-07-03</th>\n",
       "      <td>Mexico is doing a far better job than the Demo...</td>\n",
       "      <td>24713.0</td>\n",
       "      <td>19.2597</td>\n",
       "      <td>2.0</td>\n",
       "    </tr>\n",
       "    <tr>\n",
       "      <th>2019-06-27</th>\n",
       "      <td>Bipartisan Humanitarian Aid Bill for the South...</td>\n",
       "      <td>25170.0</td>\n",
       "      <td>19.2271</td>\n",
       "      <td>NaN</td>\n",
       "    </tr>\n",
       "    <tr>\n",
       "      <th>2019-06-23</th>\n",
       "      <td>I want to give the Democrats every last chance...</td>\n",
       "      <td>24276.0</td>\n",
       "      <td>18.9804</td>\n",
       "      <td>10.0</td>\n",
       "    </tr>\n",
       "    <tr>\n",
       "      <th>2019-06-19</th>\n",
       "      <td>Congratulations to President Lopez Obrador  M...</td>\n",
       "      <td>22674.0</td>\n",
       "      <td>19.1924</td>\n",
       "      <td>NaN</td>\n",
       "    </tr>\n",
       "    <tr>\n",
       "      <th>2019-06-18</th>\n",
       "      <td>Next week ICE will begin the process of removi...</td>\n",
       "      <td>37105.0</td>\n",
       "      <td>19.1487</td>\n",
       "      <td>1.0</td>\n",
       "    </tr>\n",
       "  </tbody>\n",
       "</table>\n",
       "</div>"
      ],
      "text/plain": [
       "                                                        tweet  retweet_count  \\\n",
       "date                                                                           \n",
       "2019-07-03  Mexico is doing a far better job than the Demo...        24713.0   \n",
       "2019-06-27  Bipartisan Humanitarian Aid Bill for the South...        25170.0   \n",
       "2019-06-23  I want to give the Democrats every last chance...        24276.0   \n",
       "2019-06-19  Congratulations to President Lopez Obrador  M...        22674.0   \n",
       "2019-06-18  Next week ICE will begin the process of removi...        37105.0   \n",
       "\n",
       "            exchange_rate  number_killed  \n",
       "date                                      \n",
       "2019-07-03        19.2597            2.0  \n",
       "2019-06-27        19.2271            NaN  \n",
       "2019-06-23        18.9804           10.0  \n",
       "2019-06-19        19.1924            NaN  \n",
       "2019-06-18        19.1487            1.0  "
      ]
     },
     "execution_count": 26,
     "metadata": {},
     "output_type": "execute_result"
    }
   ],
   "source": [
    "union_df = pd.merge(new_tweets, e_r_data_df, how='inner', on = 'date').set_index(['date'])\n",
    "union_df = pd.merge(union_df, mass_shooting_df, how='left', on = 'date').set_index(['date'])\n",
    "union_df.head()"
   ]
  },
  {
   "cell_type": "code",
   "execution_count": 27,
   "metadata": {},
   "outputs": [
    {
     "data": {
      "text/plain": [
       "tweet             object\n",
       "retweet_count    float64\n",
       "exchange_rate    float64\n",
       "number_killed    float64\n",
       "dtype: object"
      ]
     },
     "execution_count": 27,
     "metadata": {},
     "output_type": "execute_result"
    }
   ],
   "source": [
    "union_df.dtypes"
   ]
  },
  {
   "cell_type": "code",
   "execution_count": 28,
   "metadata": {},
   "outputs": [
    {
     "data": {
      "text/html": [
       "<div>\n",
       "<style scoped>\n",
       "    .dataframe tbody tr th:only-of-type {\n",
       "        vertical-align: middle;\n",
       "    }\n",
       "\n",
       "    .dataframe tbody tr th {\n",
       "        vertical-align: top;\n",
       "    }\n",
       "\n",
       "    .dataframe thead th {\n",
       "        text-align: right;\n",
       "    }\n",
       "</style>\n",
       "<table border=\"1\" class=\"dataframe\">\n",
       "  <thead>\n",
       "    <tr style=\"text-align: right;\">\n",
       "      <th></th>\n",
       "      <th>tweet</th>\n",
       "      <th>retweet_count</th>\n",
       "      <th>exchange_rate</th>\n",
       "      <th>number_killed</th>\n",
       "    </tr>\n",
       "    <tr>\n",
       "      <th>date</th>\n",
       "      <th></th>\n",
       "      <th></th>\n",
       "      <th></th>\n",
       "      <th></th>\n",
       "    </tr>\n",
       "  </thead>\n",
       "  <tbody>\n",
       "    <tr>\n",
       "      <th>2019-07-03</th>\n",
       "      <td>Mexico is doing a far better job than the Demo...</td>\n",
       "      <td>24713.0</td>\n",
       "      <td>19.2597</td>\n",
       "      <td>2.0</td>\n",
       "    </tr>\n",
       "    <tr>\n",
       "      <th>2019-06-23</th>\n",
       "      <td>I want to give the Democrats every last chance...</td>\n",
       "      <td>24276.0</td>\n",
       "      <td>18.9804</td>\n",
       "      <td>10.0</td>\n",
       "    </tr>\n",
       "    <tr>\n",
       "      <th>2019-06-18</th>\n",
       "      <td>Next week ICE will begin the process of removi...</td>\n",
       "      <td>37105.0</td>\n",
       "      <td>19.1487</td>\n",
       "      <td>1.0</td>\n",
       "    </tr>\n",
       "    <tr>\n",
       "      <th>2019-06-08</th>\n",
       "      <td>I would like to thank the President of Mexico ...</td>\n",
       "      <td>29037.0</td>\n",
       "      <td>19.3116</td>\n",
       "      <td>5.0</td>\n",
       "    </tr>\n",
       "    <tr>\n",
       "      <th>2019-06-08</th>\n",
       "      <td>Everyone very excited about the new deal with ...</td>\n",
       "      <td>20616.0</td>\n",
       "      <td>19.3116</td>\n",
       "      <td>5.0</td>\n",
       "    </tr>\n",
       "    <tr>\n",
       "      <th>2019-06-08</th>\n",
       "      <td>MEXICO HAS AGREED TO IMMEDIATELY BEGIN BUYING ...</td>\n",
       "      <td>34068.0</td>\n",
       "      <td>19.3116</td>\n",
       "      <td>5.0</td>\n",
       "    </tr>\n",
       "    <tr>\n",
       "      <th>2019-06-08</th>\n",
       "      <td>Mexico will try very hard and if they do that ...</td>\n",
       "      <td>17182.0</td>\n",
       "      <td>19.3116</td>\n",
       "      <td>5.0</td>\n",
       "    </tr>\n",
       "    <tr>\n",
       "      <th>2019-06-08</th>\n",
       "      <td>Brandon Judd National Border Patrol Council: ...</td>\n",
       "      <td>16512.0</td>\n",
       "      <td>19.3116</td>\n",
       "      <td>5.0</td>\n",
       "    </tr>\n",
       "    <tr>\n",
       "      <th>2019-06-08</th>\n",
       "      <td>While the reviews and reporting on our Border ...</td>\n",
       "      <td>15815.0</td>\n",
       "      <td>19.3116</td>\n",
       "      <td>5.0</td>\n",
       "    </tr>\n",
       "    <tr>\n",
       "      <th>2019-06-08</th>\n",
       "      <td>I am pleased to inform you that The United Sta...</td>\n",
       "      <td>55891.0</td>\n",
       "      <td>19.3116</td>\n",
       "      <td>5.0</td>\n",
       "    </tr>\n",
       "    <tr>\n",
       "      <th>2019-06-08</th>\n",
       "      <td>....stem the tide of Migration through Mexico ...</td>\n",
       "      <td>38079.0</td>\n",
       "      <td>19.3116</td>\n",
       "      <td>5.0</td>\n",
       "    </tr>\n",
       "    <tr>\n",
       "      <th>2019-06-08</th>\n",
       "      <td>I am pleased to inform you that The United Sta...</td>\n",
       "      <td>2659.0</td>\n",
       "      <td>19.3116</td>\n",
       "      <td>5.0</td>\n",
       "    </tr>\n",
       "    <tr>\n",
       "      <th>2019-06-08</th>\n",
       "      <td>....stem the tide of Migration through Mexico ...</td>\n",
       "      <td>2319.0</td>\n",
       "      <td>19.3116</td>\n",
       "      <td>5.0</td>\n",
       "    </tr>\n",
       "    <tr>\n",
       "      <th>2019-06-01</th>\n",
       "      <td>....U.S. in order to avoid paying the 25% Tari...</td>\n",
       "      <td>14273.0</td>\n",
       "      <td>19.6073</td>\n",
       "      <td>3.0</td>\n",
       "    </tr>\n",
       "    <tr>\n",
       "      <th>2019-06-01</th>\n",
       "      <td>...travesty that is taking place in allowing m...</td>\n",
       "      <td>17676.0</td>\n",
       "      <td>19.6073</td>\n",
       "      <td>3.0</td>\n",
       "    </tr>\n",
       "    <tr>\n",
       "      <th>2019-05-31</th>\n",
       "      <td>Saddened to hear about the loss of John Pinto ...</td>\n",
       "      <td>15563.0</td>\n",
       "      <td>19.2395</td>\n",
       "      <td>14.0</td>\n",
       "    </tr>\n",
       "    <tr>\n",
       "      <th>2019-05-31</th>\n",
       "      <td>90% of the Drugs coming into the United States...</td>\n",
       "      <td>29155.0</td>\n",
       "      <td>19.2395</td>\n",
       "      <td>14.0</td>\n",
       "    </tr>\n",
       "    <tr>\n",
       "      <th>2019-05-31</th>\n",
       "      <td>In order not to pay Tariffs if they start risi...</td>\n",
       "      <td>23128.0</td>\n",
       "      <td>19.2395</td>\n",
       "      <td>14.0</td>\n",
       "    </tr>\n",
       "    <tr>\n",
       "      <th>2019-05-31</th>\n",
       "      <td>Mexico has taken advantage of the United State...</td>\n",
       "      <td>22145.0</td>\n",
       "      <td>19.2395</td>\n",
       "      <td>14.0</td>\n",
       "    </tr>\n",
       "    <tr>\n",
       "      <th>2019-05-20</th>\n",
       "      <td>Starting Monday our great Farmers can begin do...</td>\n",
       "      <td>18326.0</td>\n",
       "      <td>19.0710</td>\n",
       "      <td>3.0</td>\n",
       "    </tr>\n",
       "    <tr>\n",
       "      <th>2019-05-01</th>\n",
       "      <td>Congress must change the Immigration Laws now ...</td>\n",
       "      <td>18078.0</td>\n",
       "      <td>19.6073</td>\n",
       "      <td>1.0</td>\n",
       "    </tr>\n",
       "    <tr>\n",
       "      <th>2019-04-30</th>\n",
       "      <td>The Coyotes and Drug Cartels are in total cont...</td>\n",
       "      <td>28276.0</td>\n",
       "      <td>18.9414</td>\n",
       "      <td>2.0</td>\n",
       "    </tr>\n",
       "    <tr>\n",
       "      <th>2019-03-31</th>\n",
       "      <td>The Democrats are allowing a ridiculous asylum...</td>\n",
       "      <td>26973.0</td>\n",
       "      <td>19.3793</td>\n",
       "      <td>2.0</td>\n",
       "    </tr>\n",
       "    <tr>\n",
       "      <th>2019-02-05</th>\n",
       "      <td>Tremendous numbers of people are coming up thr...</td>\n",
       "      <td>31694.0</td>\n",
       "      <td>19.0120</td>\n",
       "      <td>2.0</td>\n",
       "    </tr>\n",
       "    <tr>\n",
       "      <th>2019-02-03</th>\n",
       "      <td>With Caravans marching through Mexico and towa...</td>\n",
       "      <td>34810.0</td>\n",
       "      <td>19.2607</td>\n",
       "      <td>6.0</td>\n",
       "    </tr>\n",
       "    <tr>\n",
       "      <th>2019-02-03</th>\n",
       "      <td>With Caravans marching through Mexico and towa...</td>\n",
       "      <td>1332.0</td>\n",
       "      <td>19.2607</td>\n",
       "      <td>6.0</td>\n",
       "    </tr>\n",
       "    <tr>\n",
       "      <th>2019-01-19</th>\n",
       "      <td>Mexico is doing NOTHING to stop the Caravan wh...</td>\n",
       "      <td>32692.0</td>\n",
       "      <td>19.0630</td>\n",
       "      <td>7.0</td>\n",
       "    </tr>\n",
       "    <tr>\n",
       "      <th>2019-01-02</th>\n",
       "      <td>Mexico is paying for the Wall through the new ...</td>\n",
       "      <td>28559.0</td>\n",
       "      <td>19.1623</td>\n",
       "      <td>1.0</td>\n",
       "    </tr>\n",
       "  </tbody>\n",
       "</table>\n",
       "</div>"
      ],
      "text/plain": [
       "                                                        tweet  retweet_count  \\\n",
       "date                                                                           \n",
       "2019-07-03  Mexico is doing a far better job than the Demo...        24713.0   \n",
       "2019-06-23  I want to give the Democrats every last chance...        24276.0   \n",
       "2019-06-18  Next week ICE will begin the process of removi...        37105.0   \n",
       "2019-06-08  I would like to thank the President of Mexico ...        29037.0   \n",
       "2019-06-08  Everyone very excited about the new deal with ...        20616.0   \n",
       "2019-06-08  MEXICO HAS AGREED TO IMMEDIATELY BEGIN BUYING ...        34068.0   \n",
       "2019-06-08  Mexico will try very hard and if they do that ...        17182.0   \n",
       "2019-06-08  Brandon Judd National Border Patrol Council: ...        16512.0   \n",
       "2019-06-08  While the reviews and reporting on our Border ...        15815.0   \n",
       "2019-06-08  I am pleased to inform you that The United Sta...        55891.0   \n",
       "2019-06-08  ....stem the tide of Migration through Mexico ...        38079.0   \n",
       "2019-06-08  I am pleased to inform you that The United Sta...         2659.0   \n",
       "2019-06-08  ....stem the tide of Migration through Mexico ...         2319.0   \n",
       "2019-06-01  ....U.S. in order to avoid paying the 25% Tari...        14273.0   \n",
       "2019-06-01  ...travesty that is taking place in allowing m...        17676.0   \n",
       "2019-05-31  Saddened to hear about the loss of John Pinto ...        15563.0   \n",
       "2019-05-31  90% of the Drugs coming into the United States...        29155.0   \n",
       "2019-05-31  In order not to pay Tariffs if they start risi...        23128.0   \n",
       "2019-05-31  Mexico has taken advantage of the United State...        22145.0   \n",
       "2019-05-20  Starting Monday our great Farmers can begin do...        18326.0   \n",
       "2019-05-01  Congress must change the Immigration Laws now ...        18078.0   \n",
       "2019-04-30  The Coyotes and Drug Cartels are in total cont...        28276.0   \n",
       "2019-03-31  The Democrats are allowing a ridiculous asylum...        26973.0   \n",
       "2019-02-05  Tremendous numbers of people are coming up thr...        31694.0   \n",
       "2019-02-03  With Caravans marching through Mexico and towa...        34810.0   \n",
       "2019-02-03  With Caravans marching through Mexico and towa...         1332.0   \n",
       "2019-01-19  Mexico is doing NOTHING to stop the Caravan wh...        32692.0   \n",
       "2019-01-02  Mexico is paying for the Wall through the new ...        28559.0   \n",
       "\n",
       "            exchange_rate  number_killed  \n",
       "date                                      \n",
       "2019-07-03        19.2597            2.0  \n",
       "2019-06-23        18.9804           10.0  \n",
       "2019-06-18        19.1487            1.0  \n",
       "2019-06-08        19.3116            5.0  \n",
       "2019-06-08        19.3116            5.0  \n",
       "2019-06-08        19.3116            5.0  \n",
       "2019-06-08        19.3116            5.0  \n",
       "2019-06-08        19.3116            5.0  \n",
       "2019-06-08        19.3116            5.0  \n",
       "2019-06-08        19.3116            5.0  \n",
       "2019-06-08        19.3116            5.0  \n",
       "2019-06-08        19.3116            5.0  \n",
       "2019-06-08        19.3116            5.0  \n",
       "2019-06-01        19.6073            3.0  \n",
       "2019-06-01        19.6073            3.0  \n",
       "2019-05-31        19.2395           14.0  \n",
       "2019-05-31        19.2395           14.0  \n",
       "2019-05-31        19.2395           14.0  \n",
       "2019-05-31        19.2395           14.0  \n",
       "2019-05-20        19.0710            3.0  \n",
       "2019-05-01        19.6073            1.0  \n",
       "2019-04-30        18.9414            2.0  \n",
       "2019-03-31        19.3793            2.0  \n",
       "2019-02-05        19.0120            2.0  \n",
       "2019-02-03        19.2607            6.0  \n",
       "2019-02-03        19.2607            6.0  \n",
       "2019-01-19        19.0630            7.0  \n",
       "2019-01-02        19.1623            1.0  "
      ]
     },
     "execution_count": 28,
     "metadata": {},
     "output_type": "execute_result"
    }
   ],
   "source": [
    "union_df.loc[union_df['number_killed'].notnull()]"
   ]
  },
  {
   "cell_type": "markdown",
   "metadata": {
    "slideshow": {
     "slide_type": "slide"
    }
   },
   "source": [
    "### LOAD: Create database connection and load information into dB"
   ]
  },
  {
   "cell_type": "code",
   "execution_count": 29,
   "metadata": {
    "slideshow": {
     "slide_type": "fragment"
    }
   },
   "outputs": [],
   "source": [
    "connection_string = \"postgres:postgres@localhost:5432/trump_vs_mex_db\"\n",
    "engine = create_engine(f'postgresql://{connection_string}')"
   ]
  },
  {
   "cell_type": "code",
   "execution_count": 30,
   "metadata": {
    "slideshow": {
     "slide_type": "fragment"
    }
   },
   "outputs": [
    {
     "data": {
      "text/plain": [
       "['trump_twitter']"
      ]
     },
     "execution_count": 30,
     "metadata": {},
     "output_type": "execute_result"
    }
   ],
   "source": [
    "# Confirm tables\n",
    "engine.table_names()"
   ]
  },
  {
   "cell_type": "markdown",
   "metadata": {
    "slideshow": {
     "slide_type": "skip"
    }
   },
   "source": [
    "### Load DataFrames into database"
   ]
  },
  {
   "cell_type": "code",
   "execution_count": 31,
   "metadata": {
    "slideshow": {
     "slide_type": "fragment"
    }
   },
   "outputs": [],
   "source": [
    "union_df.to_sql(name='trump_twitter', con=engine, if_exists='append', index = True)"
   ]
  },
  {
   "cell_type": "code",
   "execution_count": 32,
   "metadata": {
    "slideshow": {
     "slide_type": "fragment"
    }
   },
   "outputs": [],
   "source": [
    "#Create arrays\n",
    "t = union_df.index\n",
    "data1 = union_df['retweet_count']/1000\n",
    "data2 = union_df['exchange_rate']"
   ]
  },
  {
   "cell_type": "code",
   "execution_count": 33,
   "metadata": {
    "slideshow": {
     "slide_type": "-"
    }
   },
   "outputs": [
    {
     "name": "stderr",
     "output_type": "stream",
     "text": [
      "C:\\Users\\Gonzalo\\Anaconda3\\lib\\site-packages\\pandas\\plotting\\_converter.py:129: FutureWarning: Using an implicitly registered datetime converter for a matplotlib plotting method. The converter was registered by pandas on import. Future versions of pandas will require you to explicitly register matplotlib converters.\n",
      "\n",
      "To register the converters:\n",
      "\t>>> from pandas.plotting import register_matplotlib_converters\n",
      "\t>>> register_matplotlib_converters()\n",
      "  warnings.warn(msg, FutureWarning)\n"
     ]
    },
    {
     "data": {
      "image/png": "[encoded data removed]",
      "text/plain": [
       "<Figure size 432x288 with 2 Axes>"
      ]
     },
     "metadata": {
      "needs_background": "light"
     },
     "output_type": "display_data"
    }
   ],
   "source": [
    "#plot\n",
    "\n",
    "fig, ax1 = plt.subplots()\n",
    "color = 'tab:red'\n",
    "fig.autofmt_xdate()\n",
    "#xfmt = mdates.DateFormatter('%d-%m-%y')\n",
    "\n",
    "\n",
    "ax1.set_xlabel('Date')\n",
    "ax1.set_ylabel('Retweet count (thousands)', color=color)\n",
    "ax1.bar(t, data1, color=color)\n",
    "ax1.tick_params(axis='y', labelcolor=color)\n",
    "\n",
    "ax2 = ax1.twinx()  # instantiate a second axes that shares the same x-axis\n",
    "\n",
    "color = 'tab:blue'\n",
    "ax2.set_ylabel('Exchange rate USD/MXN', color=color)  # we already handled the x-label with ax1\n",
    "ax2.plot(t, data2, color=color)\n",
    "ax2.tick_params(axis='y', labelcolor=color)\n",
    "\n",
    "fig.tight_layout() # otherwise the right y-label is slightly clipped\n",
    "plt.savefig(\"..\\\\ETL_Project\\\\plot.png\")\n",
    "plt.show()"
   ]
  },
  {
   "cell_type": "code",
   "execution_count": 34,
   "metadata": {},
   "outputs": [
    {
     "data": {
      "text/plain": [
       "0.6449590687780054"
      ]
     },
     "execution_count": 34,
     "metadata": {},
     "output_type": "execute_result"
    }
   ],
   "source": [
    "#Correlation\n",
    "union_df['retweet_count'].corr(union_df['exchange_rate'])"
   ]
  },
  {
   "cell_type": "code",
   "execution_count": 35,
   "metadata": {},
   "outputs": [
    {
     "data": {
      "text/plain": [
       "-0.07133777237347126"
      ]
     },
     "execution_count": 35,
     "metadata": {},
     "output_type": "execute_result"
    }
   ],
   "source": [
    "union_df['retweet_count'].corr(union_df['number_killed'])"
   ]
  },
  {
   "cell_type": "code",
   "execution_count": null,
   "metadata": {},
   "outputs": [],
   "source": [
    "# THE END"
   ]
  }
 ],
 "metadata": {
  "kernelspec": {
   "display_name": "Python 3",
   "language": "python",
   "name": "python3"
  },
  "language_info": {
   "codemirror_mode": {
    "name": "ipython",
    "version": 3
   },
   "file_extension": ".py",
   "mimetype": "text/x-python",
   "name": "python",
   "nbconvert_exporter": "python",
   "pygments_lexer": "ipython3",
   "version": "3.7.3"
  },
  "nteract": {
   "version": "0.12.3"
  },
  "varInspector": {
   "cols": {
    "lenName": 16,
    "lenType": 16,
    "lenVar": 40
   },
   "kernels_config": {
    "python": {
     "delete_cmd_postfix": "",
     "delete_cmd_prefix": "del ",
     "library": "var_list.py",
     "varRefreshCmd": "print(var_dic_list())"
    },
    "r": {
     "delete_cmd_postfix": ") ",
     "delete_cmd_prefix": "rm(",
     "library": "var_list.r",
     "varRefreshCmd": "cat(var_dic_list()) "
    }
   },
   "types_to_exclude": [
    "module",
    "function",
    "builtin_function_or_method",
    "instance",
    "_Feature"
   ],
   "window_display": false
  }
 },
 "nbformat": 4,
 "nbformat_minor": 2
}
