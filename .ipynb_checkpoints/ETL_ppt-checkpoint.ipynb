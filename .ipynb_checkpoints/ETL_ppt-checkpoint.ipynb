{
 "cells": [
  {
   "cell_type": "code",
   "execution_count": 23,
   "metadata": {
    "slideshow": {
     "slide_type": "skip"
    }
   },
   "outputs": [],
   "source": [
    "# Import dependencies needed for the project\n",
    "import requests\n",
    "import lxml.html as lh\n",
    "import pandas as pd\n",
    "from sqlalchemy import create_engine\n",
    "import datetime as dt\n",
    "import matplotlib.pyplot as plt\n",
    "import matplotlib.dates as mdates\n",
    "import numpy as np\n",
    "import time\n",
    "import math"
   ]
  },
  {
   "cell_type": "markdown",
   "metadata": {
    "slideshow": {
     "slide_type": "slide"
    }
   },
   "source": [
    "### ETL PROJECT: Trump Tweets vs MEX dB\n",
    "### Jorge Marquez\n",
    "### Nestor Matus\n",
    "### Gonzalo Cienfuegos"
   ]
  },
  {
   "cell_type": "markdown",
   "metadata": {
    "slideshow": {
     "slide_type": "slide"
    }
   },
   "source": [
    "### EXTRACT - Exchange Rate (MXP/USD),Tweets CSVs into DF and Web Scrapping\n",
    "### Source: http://www.banxico.org.mx/tipcamb/tipCamMIAction.do?idioma=sp\n",
    "### Source: http://www.trumptwitterarchive.com/"
   ]
  },
  {
   "cell_type": "code",
   "execution_count": 24,
   "metadata": {
    "slideshow": {
     "slide_type": "fragment"
    }
   },
   "outputs": [
    {
     "data": {
      "text/html": [
       "<div>\n",
       "<style scoped>\n",
       "    .dataframe tbody tr th:only-of-type {\n",
       "        vertical-align: middle;\n",
       "    }\n",
       "\n",
       "    .dataframe tbody tr th {\n",
       "        vertical-align: top;\n",
       "    }\n",
       "\n",
       "    .dataframe thead th {\n",
       "        text-align: right;\n",
       "    }\n",
       "</style>\n",
       "<table border=\"1\" class=\"dataframe\">\n",
       "  <thead>\n",
       "    <tr style=\"text-align: right;\">\n",
       "      <th></th>\n",
       "      <th>Fecha</th>\n",
       "      <th>Determinación</th>\n",
       "      <th>Publicación\n",
       "DOF</th>\n",
       "      <th>Para solventar\n",
       "obligaciones</th>\n",
       "    </tr>\n",
       "  </thead>\n",
       "  <tbody>\n",
       "    <tr>\n",
       "      <th>0</th>\n",
       "      <td>NaN</td>\n",
       "      <td>NaN</td>\n",
       "      <td>NaN</td>\n",
       "      <td>NaN</td>\n",
       "    </tr>\n",
       "    <tr>\n",
       "      <th>1</th>\n",
       "      <td>02/01/2006</td>\n",
       "      <td>10.6253</td>\n",
       "      <td>10.6344</td>\n",
       "      <td>10.7109</td>\n",
       "    </tr>\n",
       "  </tbody>\n",
       "</table>\n",
       "</div>"
      ],
      "text/plain": [
       "        Fecha Determinación Publicación\\nDOF  Para solventar\\nobligaciones\n",
       "0         NaN           NaN              NaN                           NaN\n",
       "1  02/01/2006       10.6253          10.6344                       10.7109"
      ]
     },
     "execution_count": 24,
     "metadata": {},
     "output_type": "execute_result"
    }
   ],
   "source": [
    "# Read csv from given route\n",
    "e_r_data_df = pd.read_csv(\"Resources/exchange_rate.csv\")\n",
    "#read CSV\n",
    "csv_file = \"./Resources/trump_vs_mex.csv\"\n",
    "# Show dataframe data\n",
    "e_r_data_df.head(2)"
   ]
  },
  {
   "cell_type": "code",
   "execution_count": 25,
   "metadata": {
    "slideshow": {
     "slide_type": "fragment"
    }
   },
   "outputs": [
    {
     "data": {
      "text/html": [
       "<div>\n",
       "<style scoped>\n",
       "    .dataframe tbody tr th:only-of-type {\n",
       "        vertical-align: middle;\n",
       "    }\n",
       "\n",
       "    .dataframe tbody tr th {\n",
       "        vertical-align: top;\n",
       "    }\n",
       "\n",
       "    .dataframe thead th {\n",
       "        text-align: right;\n",
       "    }\n",
       "</style>\n",
       "<table border=\"1\" class=\"dataframe\">\n",
       "  <thead>\n",
       "    <tr style=\"text-align: right;\">\n",
       "      <th></th>\n",
       "      <th>source</th>\n",
       "      <th>text</th>\n",
       "      <th>created_at</th>\n",
       "      <th>retweet_count</th>\n",
       "      <th>favorite_count</th>\n",
       "      <th>is_retweet</th>\n",
       "      <th>id_str</th>\n",
       "    </tr>\n",
       "  </thead>\n",
       "  <tbody>\n",
       "    <tr>\n",
       "      <th>0</th>\n",
       "      <td>Twitter for iPhone</td>\n",
       "      <td>RT @VP: Earlier this year President @realDonal...</td>\n",
       "      <td>07/12/2019 22:14</td>\n",
       "      <td>11433.0</td>\n",
       "      <td>0.0</td>\n",
       "      <td>True</td>\n",
       "      <td>1.149800e+18</td>\n",
       "    </tr>\n",
       "    <tr>\n",
       "      <th>1</th>\n",
       "      <td>Twitter for iPhone</td>\n",
       "      <td>....companies to come to the USA and to get co...</td>\n",
       "      <td>07/12/2019 12:48</td>\n",
       "      <td>9842.0</td>\n",
       "      <td>49450.0</td>\n",
       "      <td>False</td>\n",
       "      <td>1.149660e+18</td>\n",
       "    </tr>\n",
       "  </tbody>\n",
       "</table>\n",
       "</div>"
      ],
      "text/plain": [
       "               source                                               text  \\\n",
       "0  Twitter for iPhone  RT @VP: Earlier this year President @realDonal...   \n",
       "1  Twitter for iPhone  ....companies to come to the USA and to get co...   \n",
       "\n",
       "         created_at  retweet_count  favorite_count is_retweet        id_str  \n",
       "0  07/12/2019 22:14        11433.0             0.0       True  1.149800e+18  \n",
       "1  07/12/2019 12:48         9842.0         49450.0      False  1.149660e+18  "
      ]
     },
     "execution_count": 25,
     "metadata": {},
     "output_type": "execute_result"
    }
   ],
   "source": [
    "#Create dataframe and display\n",
    "tweets = pd.read_csv(csv_file, encoding = \"ISO-8859-1\")\n",
    "tweets.head(2)"
   ]
  },
  {
   "cell_type": "markdown",
   "metadata": {
    "slideshow": {
     "slide_type": "slide"
    }
   },
   "source": [
    "### Web Scrapping: Mass Shootings in USA 2019\n",
    "### Source: www.gunviolencearchive.org/reports/mass-shooting (Several different pages from website)"
   ]
  },
  {
   "cell_type": "code",
   "execution_count": 30,
   "metadata": {
    "slideshow": {
     "slide_type": "skip"
    }
   },
   "outputs": [],
   "source": [
    "urls_list = ['https://www.gunviolencearchive.org/reports/mass-shooting',\n",
    "            'https://www.gunviolencearchive.org/reports/mass-shooting?page=1',\n",
    "            'https://www.gunviolencearchive.org/reports/mass-shooting?page=2',\n",
    "            'https://www.gunviolencearchive.org/reports/mass-shooting?page=3',\n",
    "            'https://www.gunviolencearchive.org/reports/mass-shooting?page=4',\n",
    "            'https://www.gunviolencearchive.org/reports/mass-shooting?page=5',\n",
    "            'https://www.gunviolencearchive.org/reports/mass-shooting?page=6',\n",
    "            'https://www.gunviolencearchive.org/reports/mass-shooting?page=7',\n",
    "            'https://www.gunviolencearchive.org/reports/mass-shooting?page=8',\n",
    "            'https://www.gunviolencearchive.org/reports/mass-shooting?page=9',\n",
    "            'https://www.gunviolencearchive.org/reports/mass-shooting?page=10'\n",
    "             ]\n",
    "df1 = pd.DataFrame()"
   ]
  },
  {
   "cell_type": "code",
   "execution_count": 32,
   "metadata": {
    "slideshow": {
     "slide_type": "fragment"
    }
   },
   "outputs": [],
   "source": [
    "# Loop to scrape each table from different pages from the website\n",
    "for url in urls_list:\n",
    "    #Create a handle, page, to handle the contents of the website\n",
    "    page = requests.get(url)\n",
    "    #Store the contents of the website under doc\n",
    "    doc = lh.fromstring(page.content)\n",
    "    #Parse data that are stored between <tr>..</tr> of HTML\n",
    "    tr_elements = doc.xpath('//tr')\n",
    "\n",
    "    tr_elements = doc.xpath('//tr')\n",
    "    #Create empty list\n",
    "    col=[]\n",
    "    i=0\n",
    "    #For each row, store each first element (header) and an empty list\n",
    "    for t in tr_elements[0]:\n",
    "        i+=1\n",
    "        name=t.text_content()\n",
    "        col.append((name,[]))\n",
    "        \n",
    "    #Since out first row is the header, data is stored on the second row onwards\n",
    "    for j in range(1,len(tr_elements)):\n",
    "        #T is our j'th row\n",
    "        T=tr_elements[j]\n",
    "\n",
    "        #If row is not of size 7, the //tr data is not from our table \n",
    "        if len(T)!=7:\n",
    "            break\n",
    "\n",
    "        #i is the index of our column\n",
    "        i=0\n",
    "\n",
    "        #Iterate through each element of the row\n",
    "        for t in T.iterchildren():\n",
    "            data=t.text_content() \n",
    "            #Check if row is empty\n",
    "            if i>0:\n",
    "            #Convert any numerical value to integers\n",
    "                try:\n",
    "                    data=int(data)\n",
    "                except:\n",
    "                    pass\n",
    "            #Append the data to the empty list of the i'th column\n",
    "            col[i][1].append(data)\n",
    "            #Increment i for the next column\n",
    "            i+=1\n",
    "\n",
    "    Dict={title:column for (title,column) in col}\n",
    "    df=pd.DataFrame(Dict)\n",
    "    df1 = df1.append(df)"
   ]
  },
  {
   "cell_type": "markdown",
   "metadata": {
    "slideshow": {
     "slide_type": "slide"
    }
   },
   "source": [
    "### EXTRACT - Web Scrapping and start TRANSFORM step"
   ]
  },
  {
   "cell_type": "code",
   "execution_count": 36,
   "metadata": {
    "slideshow": {
     "slide_type": "fragment"
    }
   },
   "outputs": [
    {
     "data": {
      "text/html": [
       "<div>\n",
       "<style scoped>\n",
       "    .dataframe tbody tr th:only-of-type {\n",
       "        vertical-align: middle;\n",
       "    }\n",
       "\n",
       "    .dataframe tbody tr th {\n",
       "        vertical-align: top;\n",
       "    }\n",
       "\n",
       "    .dataframe thead th {\n",
       "        text-align: right;\n",
       "    }\n",
       "</style>\n",
       "<table border=\"1\" class=\"dataframe\">\n",
       "  <thead>\n",
       "    <tr style=\"text-align: right;\">\n",
       "      <th></th>\n",
       "      <th>Incident Date</th>\n",
       "      <th>State</th>\n",
       "      <th>City Or County</th>\n",
       "      <th>Address</th>\n",
       "      <th># Killed</th>\n",
       "      <th># Injured</th>\n",
       "      <th>Operations</th>\n",
       "    </tr>\n",
       "  </thead>\n",
       "  <tbody>\n",
       "    <tr>\n",
       "      <th>0</th>\n",
       "      <td>August 23, 2019</td>\n",
       "      <td>Missouri</td>\n",
       "      <td>Saint Louis</td>\n",
       "      <td>918 Union</td>\n",
       "      <td>1</td>\n",
       "      <td>3</td>\n",
       "      <td>View Incident\\nView Source\\n</td>\n",
       "    </tr>\n",
       "    <tr>\n",
       "      <th>1</th>\n",
       "      <td>August 23, 2019</td>\n",
       "      <td>Texas</td>\n",
       "      <td>Houston</td>\n",
       "      <td>4900 block of Southwind St</td>\n",
       "      <td>3</td>\n",
       "      <td>2</td>\n",
       "      <td>View Incident\\nView Source\\n</td>\n",
       "    </tr>\n",
       "    <tr>\n",
       "      <th>2</th>\n",
       "      <td>August 22, 2019</td>\n",
       "      <td>South Carolina</td>\n",
       "      <td>Columbia</td>\n",
       "      <td>851 Bush River Rd</td>\n",
       "      <td>2</td>\n",
       "      <td>2</td>\n",
       "      <td>View Incident\\nView Source\\n</td>\n",
       "    </tr>\n",
       "    <tr>\n",
       "      <th>3</th>\n",
       "      <td>August 22, 2019</td>\n",
       "      <td>California</td>\n",
       "      <td>Los Angeles</td>\n",
       "      <td>300 block of West Fifth St</td>\n",
       "      <td>0</td>\n",
       "      <td>4</td>\n",
       "      <td>View Incident\\nView Source\\n</td>\n",
       "    </tr>\n",
       "    <tr>\n",
       "      <th>4</th>\n",
       "      <td>August 20, 2019</td>\n",
       "      <td>Georgia</td>\n",
       "      <td>Atlanta</td>\n",
       "      <td>111 James P Brawley Dr SW</td>\n",
       "      <td>0</td>\n",
       "      <td>4</td>\n",
       "      <td>View Incident\\nView Source\\n</td>\n",
       "    </tr>\n",
       "  </tbody>\n",
       "</table>\n",
       "</div>"
      ],
      "text/plain": [
       "     Incident Date           State City Or County                     Address  \\\n",
       "0  August 23, 2019        Missouri    Saint Louis                   918 Union   \n",
       "1  August 23, 2019           Texas        Houston  4900 block of Southwind St   \n",
       "2  August 22, 2019  South Carolina       Columbia           851 Bush River Rd   \n",
       "3  August 22, 2019      California    Los Angeles  300 block of West Fifth St   \n",
       "4  August 20, 2019         Georgia        Atlanta   111 James P Brawley Dr SW   \n",
       "\n",
       "   # Killed  # Injured                    Operations  \n",
       "0         1          3  View Incident\\nView Source\\n  \n",
       "1         3          2  View Incident\\nView Source\\n  \n",
       "2         2          2  View Incident\\nView Source\\n  \n",
       "3         0          4  View Incident\\nView Source\\n  \n",
       "4         0          4  View Incident\\nView Source\\n  "
      ]
     },
     "execution_count": 36,
     "metadata": {},
     "output_type": "execute_result"
    }
   ],
   "source": [
    "df1.head()"
   ]
  },
  {
   "cell_type": "code",
   "execution_count": 38,
   "metadata": {
    "slideshow": {
     "slide_type": "fragment"
    }
   },
   "outputs": [
    {
     "data": {
      "text/html": [
       "<div>\n",
       "<style scoped>\n",
       "    .dataframe tbody tr th:only-of-type {\n",
       "        vertical-align: middle;\n",
       "    }\n",
       "\n",
       "    .dataframe tbody tr th {\n",
       "        vertical-align: top;\n",
       "    }\n",
       "\n",
       "    .dataframe thead th {\n",
       "        text-align: right;\n",
       "    }\n",
       "</style>\n",
       "<table border=\"1\" class=\"dataframe\">\n",
       "  <thead>\n",
       "    <tr style=\"text-align: right;\">\n",
       "      <th></th>\n",
       "      <th>date</th>\n",
       "      <th>number_killed</th>\n",
       "    </tr>\n",
       "  </thead>\n",
       "  <tbody>\n",
       "    <tr>\n",
       "      <th>0</th>\n",
       "      <td>2019-01-02</td>\n",
       "      <td>2</td>\n",
       "    </tr>\n",
       "    <tr>\n",
       "      <th>1</th>\n",
       "      <td>2019-01-03</td>\n",
       "      <td>2</td>\n",
       "    </tr>\n",
       "    <tr>\n",
       "      <th>2</th>\n",
       "      <td>2019-01-04</td>\n",
       "      <td>12</td>\n",
       "    </tr>\n",
       "    <tr>\n",
       "      <th>3</th>\n",
       "      <td>2019-01-13</td>\n",
       "      <td>2</td>\n",
       "    </tr>\n",
       "    <tr>\n",
       "      <th>4</th>\n",
       "      <td>2019-01-15</td>\n",
       "      <td>2</td>\n",
       "    </tr>\n",
       "  </tbody>\n",
       "</table>\n",
       "</div>"
      ],
      "text/plain": [
       "        date  number_killed\n",
       "0 2019-01-02              2\n",
       "1 2019-01-03              2\n",
       "2 2019-01-04             12\n",
       "3 2019-01-13              2\n",
       "4 2019-01-15              2"
      ]
     },
     "execution_count": 38,
     "metadata": {},
     "output_type": "execute_result"
    }
   ],
   "source": [
    "\n",
    "mass_shooting_df = df1[[\"Incident Date\", \"# Killed\"]]\n",
    "mass_shooting_df = mass_shooting_df.rename(columns={'Incident Date': 'date',\n",
    "                                                    '# Killed': 'number_killed'})\n",
    "mass_shooting_df[\"date\"] = pd.to_datetime(mass_shooting_df.date)\n",
    "mass_shooting_df = mass_shooting_df.groupby(['date']).sum()\n",
    "mass_shooting_df = mass_shooting_df.loc[(mass_shooting_df.number_killed > 0)]\n",
    "mass_shooting_df.reset_index(level=0, inplace=True)\n",
    "mass_shooting_df.head()"
   ]
  },
  {
   "cell_type": "markdown",
   "metadata": {
    "slideshow": {
     "slide_type": "slide"
    }
   },
   "source": [
    "### TRANSFORM - Tweets and E/R: Reformat date, columns renaming, slice tweets."
   ]
  },
  {
   "cell_type": "code",
   "execution_count": 39,
   "metadata": {
    "slideshow": {
     "slide_type": "fragment"
    }
   },
   "outputs": [],
   "source": [
    "# Transform date with format Y/M/D to Y-M-D \n",
    "e_r_data_df[\"Fecha\"] = pd.to_datetime(e_r_data_df.Fecha)\n",
    "# Clean column without NA values\n",
    "e_r_data_df = e_r_data_df.dropna(how=\"any\")\n",
    "#e_r_data_df.dtypes\n",
    "#depending on Python Version the output for column #4 is different for the next line"
   ]
  },
  {
   "cell_type": "code",
   "execution_count": 40,
   "metadata": {
    "slideshow": {
     "slide_type": "fragment"
    }
   },
   "outputs": [
    {
     "data": {
      "text/html": [
       "<div>\n",
       "<style scoped>\n",
       "    .dataframe tbody tr th:only-of-type {\n",
       "        vertical-align: middle;\n",
       "    }\n",
       "\n",
       "    .dataframe tbody tr th {\n",
       "        vertical-align: top;\n",
       "    }\n",
       "\n",
       "    .dataframe thead th {\n",
       "        text-align: right;\n",
       "    }\n",
       "</style>\n",
       "<table border=\"1\" class=\"dataframe\">\n",
       "  <thead>\n",
       "    <tr style=\"text-align: right;\">\n",
       "      <th></th>\n",
       "      <th>date</th>\n",
       "      <th>exchange_rate</th>\n",
       "    </tr>\n",
       "  </thead>\n",
       "  <tbody>\n",
       "    <tr>\n",
       "      <th>1</th>\n",
       "      <td>2006-02-01</td>\n",
       "      <td>10.7109</td>\n",
       "    </tr>\n",
       "    <tr>\n",
       "      <th>2</th>\n",
       "      <td>2006-03-01</td>\n",
       "      <td>10.6344</td>\n",
       "    </tr>\n",
       "  </tbody>\n",
       "</table>\n",
       "</div>"
      ],
      "text/plain": [
       "        date  exchange_rate\n",
       "1 2006-02-01        10.7109\n",
       "2 2006-03-01        10.6344"
      ]
     },
     "execution_count": 40,
     "metadata": {},
     "output_type": "execute_result"
    }
   ],
   "source": [
    "#Code lines thar run in Python v.3.6.8:\n",
    "#e_r_data_df = e_r_data_df[[\"Fecha\", \"Para solventar\\r\\nobligaciones\"]]\n",
    "#e_r_data_df = e_r_data_df.rename(columns={'Fecha': 'date', 'Para solventar obligaciones': 'exchange_rate'})\n",
    "#Code lines that run in Python v3.7.3\n",
    "e_r_data_df = e_r_data_df[[\"Fecha\", \"Para solventar\\nobligaciones\"]]\n",
    "e_r_data_df = e_r_data_df.rename(columns={'Fecha': 'date', 'Para solventar\\nobligaciones': 'exchange_rate'})\n",
    "e_r_data_df = e_r_data_df[[\"date\", \"exchange_rate\"]]\n",
    "e_r_data_df.head(2)"
   ]
  },
  {
   "cell_type": "markdown",
   "metadata": {
    "slideshow": {
     "slide_type": "slide"
    }
   },
   "source": [
    "### TRANSFORM (Cont)"
   ]
  },
  {
   "cell_type": "code",
   "execution_count": 41,
   "metadata": {
    "slideshow": {
     "slide_type": "fragment"
    }
   },
   "outputs": [],
   "source": [
    "#Clean data\n",
    "tweets_clean = tweets\n",
    "tweets_clean[\"created_at\"] = pd.to_datetime(tweets_clean[\"created_at\"])\n",
    "tweets_clean['Date'], tweets_clean['Time'] = tweets_clean['created_at'].dt.normalize(), tweets_clean['created_at'].dt.time\n",
    "#tweets_clean.set_index('Date').head(2)"
   ]
  },
  {
   "cell_type": "markdown",
   "metadata": {
    "slideshow": {
     "slide_type": "slide"
    }
   },
   "source": [
    "### TRANSFORM (Cont)"
   ]
  },
  {
   "cell_type": "code",
   "execution_count": 42,
   "metadata": {
    "slideshow": {
     "slide_type": "fragment"
    }
   },
   "outputs": [
    {
     "name": "stderr",
     "output_type": "stream",
     "text": [
      "C:\\Users\\Gonzalo\\Anaconda3\\lib\\site-packages\\ipykernel_launcher.py:10: FutureWarning: Comparing Series of datetimes with 'datetime.date'.  Currently, the\n",
      "'datetime.date' is coerced to a datetime. In the future pandas will\n",
      "not coerce, and a TypeError will be raised. To retain the current\n",
      "behavior, convert the 'datetime.date' to a datetime with\n",
      "'pd.Timestamp'.\n",
      "  # Remove the CWD from sys.path while we load stuff.\n"
     ]
    },
    {
     "data": {
      "text/html": [
       "<div>\n",
       "<style scoped>\n",
       "    .dataframe tbody tr th:only-of-type {\n",
       "        vertical-align: middle;\n",
       "    }\n",
       "\n",
       "    .dataframe tbody tr th {\n",
       "        vertical-align: top;\n",
       "    }\n",
       "\n",
       "    .dataframe thead th {\n",
       "        text-align: right;\n",
       "    }\n",
       "</style>\n",
       "<table border=\"1\" class=\"dataframe\">\n",
       "  <thead>\n",
       "    <tr style=\"text-align: right;\">\n",
       "      <th></th>\n",
       "      <th>date</th>\n",
       "      <th>tweet</th>\n",
       "      <th>retweet_count</th>\n",
       "    </tr>\n",
       "    <tr>\n",
       "      <th>id</th>\n",
       "      <th></th>\n",
       "      <th></th>\n",
       "      <th></th>\n",
       "    </tr>\n",
       "  </thead>\n",
       "  <tbody>\n",
       "    <tr>\n",
       "      <th>1.149660e+18</th>\n",
       "      <td>2019-07-12</td>\n",
       "      <td>....companies to come to the USA and to get co...</td>\n",
       "      <td>9842.0</td>\n",
       "    </tr>\n",
       "    <tr>\n",
       "      <th>1.149660e+18</th>\n",
       "      <td>2019-07-12</td>\n",
       "      <td>.....if Mexico produces (which I think they wi...</td>\n",
       "      <td>10001.0</td>\n",
       "    </tr>\n",
       "  </tbody>\n",
       "</table>\n",
       "</div>"
      ],
      "text/plain": [
       "                   date                                              tweet  \\\n",
       "id                                                                           \n",
       "1.149660e+18 2019-07-12  ....companies to come to the USA and to get co...   \n",
       "1.149660e+18 2019-07-12  .....if Mexico produces (which I think they wi...   \n",
       "\n",
       "              retweet_count  \n",
       "id                           \n",
       "1.149660e+18         9842.0  \n",
       "1.149660e+18        10001.0  "
      ]
     },
     "execution_count": 42,
     "metadata": {},
     "output_type": "execute_result"
    }
   ],
   "source": [
    "#Create new dataframe\n",
    "new_tweets = tweets_clean[[\"Date\", \"id_str\", \"text\",\"retweet_count\"]].set_index('id_str')\n",
    "#rename columns\n",
    "new_tweets = new_tweets.rename(columns={\"text\" :\"tweet\",\"Date\": \"date\"})\n",
    "new_tweets.index.names = ['id']\n",
    "new_tweets = new_tweets.dropna()\n",
    "#drop retweets\n",
    "new_tweets =new_tweets[~new_tweets.tweet.str.startswith('RT @')]\n",
    "#filter by date\n",
    "new_tweets = new_tweets[(new_tweets['date']>dt.date(2015,1,1)) & (new_tweets['date']<dt.date(2019,8,1))]  \n",
    "new_tweets.head(2)"
   ]
  },
  {
   "cell_type": "markdown",
   "metadata": {
    "slideshow": {
     "slide_type": "slide"
    }
   },
   "source": [
    "### TRANSFORM (Cont): Dataframes UNION E/R and Trump's Twitter"
   ]
  },
  {
   "cell_type": "code",
   "execution_count": 47,
   "metadata": {
    "slideshow": {
     "slide_type": "fragment"
    }
   },
   "outputs": [
    {
     "data": {
      "text/html": [
       "<div>\n",
       "<style scoped>\n",
       "    .dataframe tbody tr th:only-of-type {\n",
       "        vertical-align: middle;\n",
       "    }\n",
       "\n",
       "    .dataframe tbody tr th {\n",
       "        vertical-align: top;\n",
       "    }\n",
       "\n",
       "    .dataframe thead th {\n",
       "        text-align: right;\n",
       "    }\n",
       "</style>\n",
       "<table border=\"1\" class=\"dataframe\">\n",
       "  <thead>\n",
       "    <tr style=\"text-align: right;\">\n",
       "      <th></th>\n",
       "      <th>tweet</th>\n",
       "      <th>retweet_count</th>\n",
       "      <th>exchange_rate</th>\n",
       "      <th>number_killed</th>\n",
       "    </tr>\n",
       "    <tr>\n",
       "      <th>date</th>\n",
       "      <th></th>\n",
       "      <th></th>\n",
       "      <th></th>\n",
       "      <th></th>\n",
       "    </tr>\n",
       "  </thead>\n",
       "  <tbody>\n",
       "    <tr>\n",
       "      <th>2019-07-03</th>\n",
       "      <td>Mexico is doing a far better job than the Demo...</td>\n",
       "      <td>24713.0</td>\n",
       "      <td>19.2597</td>\n",
       "      <td>4.0</td>\n",
       "    </tr>\n",
       "    <tr>\n",
       "      <th>2019-06-23</th>\n",
       "      <td>I want to give the Democrats every last chance...</td>\n",
       "      <td>24276.0</td>\n",
       "      <td>18.9804</td>\n",
       "      <td>20.0</td>\n",
       "    </tr>\n",
       "    <tr>\n",
       "      <th>2019-06-18</th>\n",
       "      <td>Next week ICE will begin the process of removi...</td>\n",
       "      <td>37105.0</td>\n",
       "      <td>19.1487</td>\n",
       "      <td>2.0</td>\n",
       "    </tr>\n",
       "    <tr>\n",
       "      <th>2019-06-08</th>\n",
       "      <td>I would like to thank the President of Mexico ...</td>\n",
       "      <td>29037.0</td>\n",
       "      <td>19.3116</td>\n",
       "      <td>10.0</td>\n",
       "    </tr>\n",
       "    <tr>\n",
       "      <th>2019-06-08</th>\n",
       "      <td>Everyone very excited about the new deal with ...</td>\n",
       "      <td>20616.0</td>\n",
       "      <td>19.3116</td>\n",
       "      <td>10.0</td>\n",
       "    </tr>\n",
       "    <tr>\n",
       "      <th>2019-06-08</th>\n",
       "      <td>MEXICO HAS AGREED TO IMMEDIATELY BEGIN BUYING ...</td>\n",
       "      <td>34068.0</td>\n",
       "      <td>19.3116</td>\n",
       "      <td>10.0</td>\n",
       "    </tr>\n",
       "    <tr>\n",
       "      <th>2019-06-08</th>\n",
       "      <td>Mexico will try very hard and if they do that ...</td>\n",
       "      <td>17182.0</td>\n",
       "      <td>19.3116</td>\n",
       "      <td>10.0</td>\n",
       "    </tr>\n",
       "    <tr>\n",
       "      <th>2019-06-08</th>\n",
       "      <td>Brandon Judd National Border Patrol Council: ...</td>\n",
       "      <td>16512.0</td>\n",
       "      <td>19.3116</td>\n",
       "      <td>10.0</td>\n",
       "    </tr>\n",
       "    <tr>\n",
       "      <th>2019-06-08</th>\n",
       "      <td>While the reviews and reporting on our Border ...</td>\n",
       "      <td>15815.0</td>\n",
       "      <td>19.3116</td>\n",
       "      <td>10.0</td>\n",
       "    </tr>\n",
       "    <tr>\n",
       "      <th>2019-06-08</th>\n",
       "      <td>I am pleased to inform you that The United Sta...</td>\n",
       "      <td>55891.0</td>\n",
       "      <td>19.3116</td>\n",
       "      <td>10.0</td>\n",
       "    </tr>\n",
       "    <tr>\n",
       "      <th>2019-06-08</th>\n",
       "      <td>....stem the tide of Migration through Mexico ...</td>\n",
       "      <td>38079.0</td>\n",
       "      <td>19.3116</td>\n",
       "      <td>10.0</td>\n",
       "    </tr>\n",
       "    <tr>\n",
       "      <th>2019-06-08</th>\n",
       "      <td>I am pleased to inform you that The United Sta...</td>\n",
       "      <td>2659.0</td>\n",
       "      <td>19.3116</td>\n",
       "      <td>10.0</td>\n",
       "    </tr>\n",
       "    <tr>\n",
       "      <th>2019-06-08</th>\n",
       "      <td>....stem the tide of Migration through Mexico ...</td>\n",
       "      <td>2319.0</td>\n",
       "      <td>19.3116</td>\n",
       "      <td>10.0</td>\n",
       "    </tr>\n",
       "    <tr>\n",
       "      <th>2019-06-01</th>\n",
       "      <td>....U.S. in order to avoid paying the 25% Tari...</td>\n",
       "      <td>14273.0</td>\n",
       "      <td>19.6073</td>\n",
       "      <td>6.0</td>\n",
       "    </tr>\n",
       "    <tr>\n",
       "      <th>2019-06-01</th>\n",
       "      <td>...travesty that is taking place in allowing m...</td>\n",
       "      <td>17676.0</td>\n",
       "      <td>19.6073</td>\n",
       "      <td>6.0</td>\n",
       "    </tr>\n",
       "    <tr>\n",
       "      <th>2019-05-31</th>\n",
       "      <td>Saddened to hear about the loss of John Pinto ...</td>\n",
       "      <td>15563.0</td>\n",
       "      <td>19.2395</td>\n",
       "      <td>28.0</td>\n",
       "    </tr>\n",
       "    <tr>\n",
       "      <th>2019-05-31</th>\n",
       "      <td>90% of the Drugs coming into the United States...</td>\n",
       "      <td>29155.0</td>\n",
       "      <td>19.2395</td>\n",
       "      <td>28.0</td>\n",
       "    </tr>\n",
       "    <tr>\n",
       "      <th>2019-05-31</th>\n",
       "      <td>In order not to pay Tariffs if they start risi...</td>\n",
       "      <td>23128.0</td>\n",
       "      <td>19.2395</td>\n",
       "      <td>28.0</td>\n",
       "    </tr>\n",
       "    <tr>\n",
       "      <th>2019-05-31</th>\n",
       "      <td>Mexico has taken advantage of the United State...</td>\n",
       "      <td>22145.0</td>\n",
       "      <td>19.2395</td>\n",
       "      <td>28.0</td>\n",
       "    </tr>\n",
       "    <tr>\n",
       "      <th>2019-05-20</th>\n",
       "      <td>Starting Monday our great Farmers can begin do...</td>\n",
       "      <td>18326.0</td>\n",
       "      <td>19.0710</td>\n",
       "      <td>6.0</td>\n",
       "    </tr>\n",
       "    <tr>\n",
       "      <th>2019-05-01</th>\n",
       "      <td>Congress must change the Immigration Laws now ...</td>\n",
       "      <td>18078.0</td>\n",
       "      <td>19.6073</td>\n",
       "      <td>2.0</td>\n",
       "    </tr>\n",
       "    <tr>\n",
       "      <th>2019-04-30</th>\n",
       "      <td>The Coyotes and Drug Cartels are in total cont...</td>\n",
       "      <td>28276.0</td>\n",
       "      <td>18.9414</td>\n",
       "      <td>4.0</td>\n",
       "    </tr>\n",
       "    <tr>\n",
       "      <th>2019-03-31</th>\n",
       "      <td>The Democrats are allowing a ridiculous asylum...</td>\n",
       "      <td>26973.0</td>\n",
       "      <td>19.3793</td>\n",
       "      <td>4.0</td>\n",
       "    </tr>\n",
       "    <tr>\n",
       "      <th>2019-02-05</th>\n",
       "      <td>Tremendous numbers of people are coming up thr...</td>\n",
       "      <td>31694.0</td>\n",
       "      <td>19.0120</td>\n",
       "      <td>4.0</td>\n",
       "    </tr>\n",
       "    <tr>\n",
       "      <th>2019-02-03</th>\n",
       "      <td>With Caravans marching through Mexico and towa...</td>\n",
       "      <td>34810.0</td>\n",
       "      <td>19.2607</td>\n",
       "      <td>12.0</td>\n",
       "    </tr>\n",
       "    <tr>\n",
       "      <th>2019-02-03</th>\n",
       "      <td>With Caravans marching through Mexico and towa...</td>\n",
       "      <td>1332.0</td>\n",
       "      <td>19.2607</td>\n",
       "      <td>12.0</td>\n",
       "    </tr>\n",
       "    <tr>\n",
       "      <th>2019-01-19</th>\n",
       "      <td>Mexico is doing NOTHING to stop the Caravan wh...</td>\n",
       "      <td>32692.0</td>\n",
       "      <td>19.0630</td>\n",
       "      <td>14.0</td>\n",
       "    </tr>\n",
       "    <tr>\n",
       "      <th>2019-01-02</th>\n",
       "      <td>Mexico is paying for the Wall through the new ...</td>\n",
       "      <td>28559.0</td>\n",
       "      <td>19.1623</td>\n",
       "      <td>2.0</td>\n",
       "    </tr>\n",
       "  </tbody>\n",
       "</table>\n",
       "</div>"
      ],
      "text/plain": [
       "                                                        tweet  retweet_count  \\\n",
       "date                                                                           \n",
       "2019-07-03  Mexico is doing a far better job than the Demo...        24713.0   \n",
       "2019-06-23  I want to give the Democrats every last chance...        24276.0   \n",
       "2019-06-18  Next week ICE will begin the process of removi...        37105.0   \n",
       "2019-06-08  I would like to thank the President of Mexico ...        29037.0   \n",
       "2019-06-08  Everyone very excited about the new deal with ...        20616.0   \n",
       "2019-06-08  MEXICO HAS AGREED TO IMMEDIATELY BEGIN BUYING ...        34068.0   \n",
       "2019-06-08  Mexico will try very hard and if they do that ...        17182.0   \n",
       "2019-06-08  Brandon Judd National Border Patrol Council: ...        16512.0   \n",
       "2019-06-08  While the reviews and reporting on our Border ...        15815.0   \n",
       "2019-06-08  I am pleased to inform you that The United Sta...        55891.0   \n",
       "2019-06-08  ....stem the tide of Migration through Mexico ...        38079.0   \n",
       "2019-06-08  I am pleased to inform you that The United Sta...         2659.0   \n",
       "2019-06-08  ....stem the tide of Migration through Mexico ...         2319.0   \n",
       "2019-06-01  ....U.S. in order to avoid paying the 25% Tari...        14273.0   \n",
       "2019-06-01  ...travesty that is taking place in allowing m...        17676.0   \n",
       "2019-05-31  Saddened to hear about the loss of John Pinto ...        15563.0   \n",
       "2019-05-31  90% of the Drugs coming into the United States...        29155.0   \n",
       "2019-05-31  In order not to pay Tariffs if they start risi...        23128.0   \n",
       "2019-05-31  Mexico has taken advantage of the United State...        22145.0   \n",
       "2019-05-20  Starting Monday our great Farmers can begin do...        18326.0   \n",
       "2019-05-01  Congress must change the Immigration Laws now ...        18078.0   \n",
       "2019-04-30  The Coyotes and Drug Cartels are in total cont...        28276.0   \n",
       "2019-03-31  The Democrats are allowing a ridiculous asylum...        26973.0   \n",
       "2019-02-05  Tremendous numbers of people are coming up thr...        31694.0   \n",
       "2019-02-03  With Caravans marching through Mexico and towa...        34810.0   \n",
       "2019-02-03  With Caravans marching through Mexico and towa...         1332.0   \n",
       "2019-01-19  Mexico is doing NOTHING to stop the Caravan wh...        32692.0   \n",
       "2019-01-02  Mexico is paying for the Wall through the new ...        28559.0   \n",
       "\n",
       "            exchange_rate  number_killed  \n",
       "date                                      \n",
       "2019-07-03        19.2597            4.0  \n",
       "2019-06-23        18.9804           20.0  \n",
       "2019-06-18        19.1487            2.0  \n",
       "2019-06-08        19.3116           10.0  \n",
       "2019-06-08        19.3116           10.0  \n",
       "2019-06-08        19.3116           10.0  \n",
       "2019-06-08        19.3116           10.0  \n",
       "2019-06-08        19.3116           10.0  \n",
       "2019-06-08        19.3116           10.0  \n",
       "2019-06-08        19.3116           10.0  \n",
       "2019-06-08        19.3116           10.0  \n",
       "2019-06-08        19.3116           10.0  \n",
       "2019-06-08        19.3116           10.0  \n",
       "2019-06-01        19.6073            6.0  \n",
       "2019-06-01        19.6073            6.0  \n",
       "2019-05-31        19.2395           28.0  \n",
       "2019-05-31        19.2395           28.0  \n",
       "2019-05-31        19.2395           28.0  \n",
       "2019-05-31        19.2395           28.0  \n",
       "2019-05-20        19.0710            6.0  \n",
       "2019-05-01        19.6073            2.0  \n",
       "2019-04-30        18.9414            4.0  \n",
       "2019-03-31        19.3793            4.0  \n",
       "2019-02-05        19.0120            4.0  \n",
       "2019-02-03        19.2607           12.0  \n",
       "2019-02-03        19.2607           12.0  \n",
       "2019-01-19        19.0630           14.0  \n",
       "2019-01-02        19.1623            2.0  "
      ]
     },
     "execution_count": 47,
     "metadata": {},
     "output_type": "execute_result"
    }
   ],
   "source": [
    "union_df = pd.merge(new_tweets, e_r_data_df, how='inner', on = 'date').set_index(['date'])\n",
    "union_df = pd.merge(union_df, mass_shooting_df, how='left', on = 'date').set_index(['date'])\n",
    "union_df.loc[union_df['number_killed'].notnull()]"
   ]
  },
  {
   "cell_type": "markdown",
   "metadata": {
    "slideshow": {
     "slide_type": "slide"
    }
   },
   "source": [
    "### LOAD: Create database connection and load information into dB"
   ]
  },
  {
   "cell_type": "code",
   "execution_count": 57,
   "metadata": {
    "slideshow": {
     "slide_type": "fragment"
    }
   },
   "outputs": [],
   "source": [
    "connection_string = \"postgres:postgres@localhost:5432/trump_vs_mex_db\"\n",
    "engine = create_engine(f'postgresql://{connection_string}')"
   ]
  },
  {
   "cell_type": "code",
   "execution_count": 58,
   "metadata": {
    "slideshow": {
     "slide_type": "fragment"
    }
   },
   "outputs": [
    {
     "data": {
      "text/plain": [
       "['trump_twitter']"
      ]
     },
     "execution_count": 58,
     "metadata": {},
     "output_type": "execute_result"
    }
   ],
   "source": [
    "# Confirm tables\n",
    "engine.table_names()"
   ]
  },
  {
   "cell_type": "markdown",
   "metadata": {
    "slideshow": {
     "slide_type": "skip"
    }
   },
   "source": [
    "### Load DataFrames into database"
   ]
  },
  {
   "cell_type": "code",
   "execution_count": 59,
   "metadata": {
    "slideshow": {
     "slide_type": "fragment"
    }
   },
   "outputs": [],
   "source": [
    "union_df.to_sql(name='trump_twitter', con=engine, if_exists='append', index = True)"
   ]
  },
  {
   "cell_type": "markdown",
   "metadata": {
    "slideshow": {
     "slide_type": "slide"
    }
   },
   "source": [
    "### VISUALIZATION"
   ]
  },
  {
   "cell_type": "code",
   "execution_count": 51,
   "metadata": {
    "slideshow": {
     "slide_type": "skip"
    }
   },
   "outputs": [],
   "source": [
    "#Create arrays\n",
    "t = union_df.index\n",
    "data1 = union_df['retweet_count']/1000\n",
    "data2 = union_df['exchange_rate']"
   ]
  },
  {
   "cell_type": "code",
   "execution_count": 60,
   "metadata": {
    "slideshow": {
     "slide_type": "fragment"
    }
   },
   "outputs": [
    {
     "data": {
      "image/png": "[encoded data removed]",
      "text/plain": [
       "<Figure size 432x288 with 2 Axes>"
      ]
     },
     "metadata": {
      "needs_background": "light"
     },
     "output_type": "display_data"
    }
   ],
   "source": [
    "fig, ax1 = plt.subplots()\n",
    "color = 'tab:red'\n",
    "fig.autofmt_xdate()\n",
    "ax1.set_xlabel('Date')\n",
    "ax1.set_ylabel('Retweet count (thousands)', color=color)\n",
    "ax1.bar(t, data1, color=color)\n",
    "ax1.tick_params(axis='y', labelcolor=color)\n",
    "ax2 = ax1.twinx()  # instantiate a second axes that shares the same x-axis\n",
    "color = 'tab:blue'\n",
    "ax2.set_ylabel('Exchange rate USD/MXN', color=color)  # we already handled the x-label with ax1\n",
    "ax2.plot(t, data2, color=color)\n",
    "ax2.tick_params(axis='y', labelcolor=color)\n",
    "plt.savefig(\"..\\\\ETL_Project\\\\plot.png\")\n",
    "plt.show()"
   ]
  },
  {
   "cell_type": "code",
   "execution_count": 61,
   "metadata": {
    "slideshow": {
     "slide_type": "skip"
    }
   },
   "outputs": [
    {
     "data": {
      "text/plain": [
       "0.6449590687780054"
      ]
     },
     "execution_count": 61,
     "metadata": {},
     "output_type": "execute_result"
    }
   ],
   "source": [
    "#Correlation\n",
    "union_df['retweet_count'].corr(union_df['exchange_rate'])"
   ]
  },
  {
   "cell_type": "code",
   "execution_count": 62,
   "metadata": {
    "slideshow": {
     "slide_type": "skip"
    }
   },
   "outputs": [
    {
     "data": {
      "text/plain": [
       "-0.07133777237347126"
      ]
     },
     "execution_count": 62,
     "metadata": {},
     "output_type": "execute_result"
    }
   ],
   "source": [
    "union_df['retweet_count'].corr(union_df['number_killed'])"
   ]
  }
 ],
 "metadata": {
  "celltoolbar": "Slideshow",
  "kernelspec": {
   "display_name": "Python 3",
   "language": "python",
   "name": "python3"
  },
  "language_info": {
   "codemirror_mode": {
    "name": "ipython",
    "version": 3
   },
   "file_extension": ".py",
   "mimetype": "text/x-python",
   "name": "python",
   "nbconvert_exporter": "python",
   "pygments_lexer": "ipython3",
   "version": "3.7.3"
  },
  "nteract": {
   "version": "0.12.3"
  }
 },
 "nbformat": 4,
 "nbformat_minor": 2
}
